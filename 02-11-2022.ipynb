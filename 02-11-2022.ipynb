{
 "cells": [
  {
   "cell_type": "markdown",
   "metadata": {},
   "source": [
    "#### Day Objectiives:\n",
    "    - list comprehension\n",
    "    - dict comprehension\n",
    "    - set comprehension\n",
    "    - Functional Programming:\n",
    "            - lambda()\n",
    "            - map()\n",
    "            - filter()"
   ]
  },
  {
   "cell_type": "markdown",
   "metadata": {},
   "source": [
    "### comprehension:\n",
    "    - it is a process of creating new sequence from existed sequence\n",
    "        - types:\n",
    "            - list comprehension\n",
    "            - dict comprehension\n",
    "            - set comprehension\n",
    "        - advantages:\n",
    "            - less code\n",
    "            - less complexity\n",
    "        - syntax:\n",
    "            - [output_variable loop condition ]"
   ]
  },
  {
   "cell_type": "markdown",
   "metadata": {},
   "source": [
    "### list comprehension\n",
    "    - [output_variable loop condition ]"
   ]
  },
  {
   "cell_type": "code",
   "execution_count": 4,
   "metadata": {},
   "outputs": [
    {
     "name": "stdout",
     "output_type": "stream",
     "text": [
      "[1, 2, 3, 4, 5, 6, 7, 8, 9, 10, 11, 12, 13, 14, 15, 16, 17, 18, 19, 20, 21, 22, 23, 24, 25, 26, 27, 28, 29, 30, 31, 32, 33, 34, 35, 36, 37, 38, 39, 40, 41, 42, 43, 44, 45, 46, 47, 48, 49, 50, 51, 52, 53, 54, 55, 56, 57, 58, 59, 60, 61, 62, 63, 64, 65, 66, 67, 68, 69, 70, 71, 72, 73, 74, 75, 76, 77, 78, 79, 80, 81, 82, 83, 84, 85, 86, 87, 88, 89, 90, 91, 92, 93, 94, 95, 96, 97, 98, 99, 100]\n"
     ]
    }
   ],
   "source": [
    "#### natural nos printing \n",
    "li=[]\n",
    "for i in range(1,101):\n",
    "    li.append(i)\n",
    "print(li)"
   ]
  },
  {
   "cell_type": "code",
   "execution_count": 5,
   "metadata": {},
   "outputs": [
    {
     "name": "stdout",
     "output_type": "stream",
     "text": [
      "[1, 2, 3, 4, 5, 6, 7, 8, 9, 10, 11, 12, 13, 14, 15, 16, 17, 18, 19, 20, 21, 22, 23, 24, 25, 26, 27, 28, 29, 30, 31, 32, 33, 34, 35, 36, 37, 38, 39, 40, 41, 42, 43, 44, 45, 46, 47, 48, 49, 50, 51, 52, 53, 54, 55, 56, 57, 58, 59, 60, 61, 62, 63, 64, 65, 66, 67, 68, 69, 70, 71, 72, 73, 74, 75, 76, 77, 78, 79, 80, 81, 82, 83, 84, 85, 86, 87, 88, 89, 90, 91, 92, 93, 94, 95, 96, 97, 98, 99, 100]\n"
     ]
    }
   ],
   "source": [
    "### by using lc\n",
    "li=[i for i in range(1,101)]\n",
    "print(li)"
   ]
  },
  {
   "cell_type": "code",
   "execution_count": 8,
   "metadata": {},
   "outputs": [
    {
     "name": "stdout",
     "output_type": "stream",
     "text": [
      "[11, 99, 23]\n"
     ]
    }
   ],
   "source": [
    "### odd nos printing\n",
    "s=[34,78,56,11,99,23]\n",
    "li=[]\n",
    "for i in s:\n",
    "    if (i%2!=0):\n",
    "        li.append(i)\n",
    "print(li)"
   ]
  },
  {
   "cell_type": "code",
   "execution_count": 7,
   "metadata": {},
   "outputs": [
    {
     "name": "stdout",
     "output_type": "stream",
     "text": [
      "[11, 99, 23]\n"
     ]
    }
   ],
   "source": [
    "#### by using lc\n",
    "s=[34,78,56,11,99,23]\n",
    "l=[i for i in s if (i%2!=0)]\n",
    "print(l)"
   ]
  },
  {
   "cell_type": "code",
   "execution_count": 12,
   "metadata": {},
   "outputs": [
    {
     "name": "stdout",
     "output_type": "stream",
     "text": [
      "['hai', 'guys', 'welcome', 'to', 'python', 'online', 'session']\n"
     ]
    }
   ],
   "source": [
    "#### program to print only words in sentense\n",
    "li=['hai guys welcome to python online session']\n",
    "f=[]\n",
    "for i in li:\n",
    "    for j in i.split():\n",
    "        f.append(j)\n",
    "print(f)"
   ]
  },
  {
   "cell_type": "code",
   "execution_count": 13,
   "metadata": {},
   "outputs": [
    {
     "name": "stdout",
     "output_type": "stream",
     "text": [
      "['hai', 'guys', 'welcome', 'to', 'python', 'online', 'session']\n"
     ]
    }
   ],
   "source": [
    "### by using lc\n",
    "li=['hai guys welcome to python online session']\n",
    "s=[j for i in li for j in i.split()]\n",
    "print(s)"
   ]
  },
  {
   "cell_type": "markdown",
   "metadata": {},
   "source": [
    "#### dict comprehension:\n",
    "    - {output_variable loop condition}"
   ]
  },
  {
   "cell_type": "markdown",
   "metadata": {},
   "source": [
    "### i/p:[2,3,4,5,6,7,8,9]\n",
    "### o/p:{2:4,3:9.....9:81}"
   ]
  },
  {
   "cell_type": "code",
   "execution_count": 21,
   "metadata": {},
   "outputs": [
    {
     "name": "stdout",
     "output_type": "stream",
     "text": [
      "{2: 4, 3: 9, 4: 16, 5: 25, 6: 36, 7: 49, 8: 64, 9: 81}\n"
     ]
    }
   ],
   "source": [
    "### program to print sqare for list  of elements\n",
    "li=[2,3,4,5,6,7,8,9]\n",
    "d={}\n",
    "for i in li:\n",
    "    d[i]=i**2\n",
    "print(d)"
   ]
  },
  {
   "cell_type": "code",
   "execution_count": 23,
   "metadata": {},
   "outputs": [
    {
     "name": "stdout",
     "output_type": "stream",
     "text": [
      "{2: 4, 3: 9, 4: 16, 5: 25, 6: 36, 7: 49, 8: 64, 9: 81}\n"
     ]
    }
   ],
   "source": [
    "#### by using dc\n",
    "li=[2,3,4,5,6,7,8,9]\n",
    "d={i:i**2 for i in li}\n",
    "print(d)"
   ]
  },
  {
   "cell_type": "markdown",
   "metadata": {},
   "source": [
    "### set comprehension:\n",
    "    - {output_variable loop condition}"
   ]
  },
  {
   "cell_type": "markdown",
   "metadata": {},
   "source": [
    "### i/p:[5,6,7,8,9,4]\n",
    "### o/p--->5,7,9(odd)-->sqaures-->{25,49,81}"
   ]
  },
  {
   "cell_type": "code",
   "execution_count": 26,
   "metadata": {
    "collapsed": true
   },
   "outputs": [
    {
     "name": "stdout",
     "output_type": "stream",
     "text": [
      "Enter your list of elements !5 6 7 8 9\n",
      "['5', '6', '7', '8', '9']\n",
      "[5, 6, 7, 8, 9]\n",
      "{81, 25, 49}\n"
     ]
    }
   ],
   "source": [
    "li=input(\"Enter your list of elements !\").split()\n",
    "print(li)\n",
    "g=[]\n",
    "f=set()\n",
    "for i in li:\n",
    "    g.append(int(i))\n",
    "print(g)\n",
    "\n",
    "for i in g:\n",
    "    if (i%2!=0):\n",
    "        f.add(i**2)\n",
    "print(f)\n",
    "        \n",
    "    \n",
    "    "
   ]
  },
  {
   "cell_type": "code",
   "execution_count": 30,
   "metadata": {
    "collapsed": true
   },
   "outputs": [
    {
     "name": "stdout",
     "output_type": "stream",
     "text": [
      "Enter your list of elements !5 6 7 8 9\n",
      "['5', '6', '7', '8', '9']\n",
      "[5, 6, 7, 8, 9]\n",
      "{81, 25, 49}\n"
     ]
    }
   ],
   "source": [
    "### by using sc\n",
    "li=input(\"Enter your list of elements !\").split()\n",
    "print(li)\n",
    "g=[]\n",
    "for i in li:\n",
    "    g.append(int(i))\n",
    "print(g)\n",
    "s={i**2 for i in g if (i%2!=0)}\n",
    "print(s)"
   ]
  },
  {
   "cell_type": "markdown",
   "metadata": {},
   "source": [
    "#### functional programming:\n",
    "    - it is used to create small functions\n",
    "    - we can call it as single line functions\n",
    "    - anonymous functions(it does not a fn name)\n",
    "        - lambda()\n",
    "            - syntax:lambda arguments:condition\n",
    "        - filter()\n",
    "            - syntax: filter(function,sequence)\n",
    "        - map()\n",
    "            - syntax: map(function,sequence)"
   ]
  },
  {
   "cell_type": "code",
   "execution_count": 31,
   "metadata": {
    "collapsed": true
   },
   "outputs": [
    {
     "name": "stdout",
     "output_type": "stream",
     "text": [
      "13\n"
     ]
    }
   ],
   "source": [
    "### addition of 2 nos\n",
    "def add(a,b):\n",
    "    print(a+b)\n",
    "add(6,7)\n"
   ]
  },
  {
   "cell_type": "code",
   "execution_count": 32,
   "metadata": {
    "collapsed": true
   },
   "outputs": [
    {
     "data": {
      "text/plain": [
       "13"
      ]
     },
     "execution_count": 32,
     "metadata": {},
     "output_type": "execute_result"
    }
   ],
   "source": [
    "### lambda\n",
    "k=(lambda a,b:a+b)\n",
    "k(6,7)"
   ]
  },
  {
   "cell_type": "code",
   "execution_count": 33,
   "metadata": {
    "collapsed": true
   },
   "outputs": [
    {
     "name": "stdout",
     "output_type": "stream",
     "text": [
      "432\n"
     ]
    }
   ],
   "source": [
    "### \n",
    "k1=(lambda a,b,c:a*b*c)\n",
    "print(k1(8,9,6))"
   ]
  },
  {
   "cell_type": "code",
   "execution_count": 37,
   "metadata": {},
   "outputs": [
    {
     "name": "stdout",
     "output_type": "stream",
     "text": [
      "[9, 16, 36, 64]\n"
     ]
    }
   ],
   "source": [
    "### map()\n",
    "def mul(a):\n",
    "    return a*a\n",
    "m=map(mul,[3,4,6,8])\n",
    "print(list(m))"
   ]
  },
  {
   "cell_type": "code",
   "execution_count": 39,
   "metadata": {},
   "outputs": [
    {
     "name": "stdout",
     "output_type": "stream",
     "text": [
      "{'ravi', 'raju', 'ram'}\n"
     ]
    }
   ],
   "source": [
    "### \n",
    "c=[\"RAJU\",\"RAVI\",\"RAM\"]\n",
    "res=set(map(str.lower,c))\n",
    "print(res)"
   ]
  },
  {
   "cell_type": "code",
   "execution_count": 45,
   "metadata": {},
   "outputs": [
    {
     "name": "stdout",
     "output_type": "stream",
     "text": [
      "56 67 55 100 "
     ]
    }
   ],
   "source": [
    "### filter()\n",
    "d=[23,56,11,67,55,100]\n",
    "def greater(d):\n",
    "    if (d>=25):\n",
    "        return True\n",
    "    else:\n",
    "        return False\n",
    "    \n",
    "n=filter(greater,d)\n",
    "\n",
    "for i in n:\n",
    "    print(i,end=\" \")\n",
    "    \n",
    "    "
   ]
  },
  {
   "cell_type": "code",
   "execution_count": null,
   "metadata": {},
   "outputs": [],
   "source": []
  }
 ],
 "metadata": {
  "kernelspec": {
   "display_name": "Python 3",
   "language": "python",
   "name": "python3"
  },
  "language_info": {
   "codemirror_mode": {
    "name": "ipython",
    "version": 3
   },
   "file_extension": ".py",
   "mimetype": "text/x-python",
   "name": "python",
   "nbconvert_exporter": "python",
   "pygments_lexer": "ipython3",
   "version": "3.7.3"
  }
 },
 "nbformat": 4,
 "nbformat_minor": 2
}
