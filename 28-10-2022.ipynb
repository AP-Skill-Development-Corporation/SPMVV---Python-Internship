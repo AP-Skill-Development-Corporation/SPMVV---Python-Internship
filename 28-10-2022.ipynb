{
 "cells": [
  {
   "cell_type": "markdown",
   "metadata": {},
   "source": [
    "### python data structures:\n",
    "        - it contains collection of data\n",
    "        - to store the data,organnize the data\n",
    "        - python contains 4 different data structures:\n",
    "                - list\n",
    "                - tuple\n",
    "                - dictionary\n",
    "                - set"
   ]
  },
  {
   "cell_type": "markdown",
   "metadata": {},
   "source": [
    "### list:\n",
    "    - it is a collection of different types of data\n",
    "    - in python list is represented as sqaue brackets\"[]\"\n",
    "    - in list each and every element is separated with comma,\n",
    "    - it is a similar arrays\n",
    "    - in list index position starts from \"0\"\n",
    "    - it is a mutable"
   ]
  },
  {
   "cell_type": "code",
   "execution_count": 2,
   "metadata": {},
   "outputs": [
    {
     "ename": "IndentationError",
     "evalue": "unexpected indent (<ipython-input-2-9fe2ee4db327>, line 2)",
     "output_type": "error",
     "traceback": [
      "\u001b[1;36m  File \u001b[1;32m\"<ipython-input-2-9fe2ee4db327>\"\u001b[1;36m, line \u001b[1;32m2\u001b[0m\n\u001b[1;33m    - list_name=[element1,el2,el3...en]\u001b[0m\n\u001b[1;37m    ^\u001b[0m\n\u001b[1;31mIndentationError\u001b[0m\u001b[1;31m:\u001b[0m unexpected indent\n"
     ]
    }
   ],
   "source": [
    "### declaration\n",
    "    - list_name=[element1,el2,el3...en]"
   ]
  },
  {
   "cell_type": "code",
   "execution_count": null,
   "metadata": {},
   "outputs": [],
   "source": [
    "l=[10,20,'python',67.89,89,'apssdc']\n",
    "print(l)\n",
    "print(type(l))"
   ]
  },
  {
   "cell_type": "markdown",
   "metadata": {},
   "source": [
    "### how to access elements from list\n",
    "        - index(we can get only single element at a time)\n",
    "        - slicing(we can access more than one element)\n",
    "            - syntax:\n",
    "                [start index:end index+1:step value]"
   ]
  },
  {
   "cell_type": "code",
   "execution_count": null,
   "metadata": {},
   "outputs": [],
   "source": [
    "#### index\n",
    "print(l)\n",
    "print(l[3])\n",
    "print(l[5])\n",
    "print(l[6])"
   ]
  },
  {
   "cell_type": "code",
   "execution_count": null,
   "metadata": {},
   "outputs": [],
   "source": [
    "### slicing:\n",
    "print(l)\n",
    "print(l[:])\n",
    "print(l[0:3])\n",
    "print(l[:3])\n",
    "print(l[2:])\n",
    "print(l[::-1])\n",
    "print(l[::2])"
   ]
  },
  {
   "cell_type": "markdown",
   "metadata": {},
   "source": [
    "### list methods:\n",
    "    - print(dir(list))"
   ]
  },
  {
   "cell_type": "code",
   "execution_count": null,
   "metadata": {},
   "outputs": [],
   "source": [
    "print(dir(list))"
   ]
  },
  {
   "cell_type": "markdown",
   "metadata": {},
   "source": [
    "#### append():\n",
    "    - to add the new element to end of the list\n",
    "    - list_name.append(new_element)"
   ]
  },
  {
   "cell_type": "code",
   "execution_count": null,
   "metadata": {},
   "outputs": [],
   "source": [
    "l1=[10,20,30,40]\n",
    "print(l1)\n",
    "l1.append(90)\n",
    "l1.append(100)\n",
    "l1"
   ]
  },
  {
   "cell_type": "markdown",
   "metadata": {},
   "source": [
    "### insert():\n",
    "    - it is used to insert an element in specific position\n",
    "    - list_name.insert(position,element)"
   ]
  },
  {
   "cell_type": "code",
   "execution_count": null,
   "metadata": {},
   "outputs": [],
   "source": [
    "l1\n",
    "l1.insert(2,'srikanya')\n",
    "l1.insert(5,'python')\n",
    "print(l1)"
   ]
  },
  {
   "cell_type": "code",
   "execution_count": null,
   "metadata": {},
   "outputs": [],
   "source": [
    "### extend():\n",
    "    - to add multiple elements to end of the list\n",
    "    - list_name.extend([v1,v2...vn])"
   ]
  },
  {
   "cell_type": "code",
   "execution_count": null,
   "metadata": {},
   "outputs": [],
   "source": [
    "print(l1)\n",
    "l1.extend([67,45])\n",
    "print(l1)"
   ]
  },
  {
   "cell_type": "markdown",
   "metadata": {},
   "source": [
    "### count():\n",
    "    - To count the no of occurances\n",
    "    - list_name.count(element)"
   ]
  },
  {
   "cell_type": "code",
   "execution_count": null,
   "metadata": {},
   "outputs": [],
   "source": [
    "print(l1)\n",
    "print(l1.count(67))\n",
    "print(l1.count(45))\n",
    "print(l1.count('srikanya'))"
   ]
  },
  {
   "cell_type": "markdown",
   "metadata": {},
   "source": [
    "#### index():\n",
    "    - it returns index position of an element\n",
    "    - list_name.index(element)"
   ]
  },
  {
   "cell_type": "code",
   "execution_count": null,
   "metadata": {},
   "outputs": [],
   "source": [
    "print(l1)\n",
    "print(l1.index('srikanya'))\n",
    "print(l1.index(67))\n",
    "print(l1.index(45))"
   ]
  },
  {
   "cell_type": "markdown",
   "metadata": {},
   "source": [
    "### pop():\n",
    "    - to delete an element from the list\n",
    "    - list_name.pop()-->delete an element from end of the list\n",
    "    - list_name.pop(index_position)"
   ]
  },
  {
   "cell_type": "code",
   "execution_count": null,
   "metadata": {},
   "outputs": [],
   "source": [
    "print(l1)\n",
    "print(l1.pop())\n",
    "print(l1)\n",
    "print(l1.pop())\n",
    "print(l1)\n",
    "print(l1.pop(1))\n",
    "print(l1)"
   ]
  },
  {
   "cell_type": "markdown",
   "metadata": {},
   "source": [
    "#### remove():\n",
    "    - to delete the particular element\n",
    "    - list_name.remove(element)"
   ]
  },
  {
   "cell_type": "code",
   "execution_count": null,
   "metadata": {},
   "outputs": [],
   "source": [
    "print(l1)\n",
    "print(l1.remove('srikanya'))\n",
    "print(l1)"
   ]
  },
  {
   "cell_type": "markdown",
   "metadata": {},
   "source": [
    "### reverse():\n",
    "    - to print list in reverse order\n",
    "    - list_name.reverse()"
   ]
  },
  {
   "cell_type": "code",
   "execution_count": null,
   "metadata": {},
   "outputs": [],
   "source": [
    "print(l1)\n",
    "l1.reverse()\n",
    "print(l1)"
   ]
  },
  {
   "cell_type": "code",
   "execution_count": null,
   "metadata": {},
   "outputs": [],
   "source": [
    "l1.append(78)\n",
    "l1.append(100)\n",
    "print(l1)"
   ]
  },
  {
   "cell_type": "markdown",
   "metadata": {},
   "source": [
    "### sort():\n",
    "    - to print an elements either ascending or decending order\n",
    "    - list_name.sort()-->by default it returns ascending order\n",
    "    - list_name.sort(reverse=True)-->descending\n",
    "    - list_name.sort(reverse=False)-->ascending"
   ]
  },
  {
   "cell_type": "code",
   "execution_count": null,
   "metadata": {},
   "outputs": [],
   "source": [
    "print(l1)\n",
    "print(l1.sort())\n",
    "print(l1)"
   ]
  },
  {
   "cell_type": "code",
   "execution_count": null,
   "metadata": {},
   "outputs": [],
   "source": [
    "print(l1)\n",
    "l1.sort(reverse=True)\n",
    "print(l1)"
   ]
  },
  {
   "cell_type": "code",
   "execution_count": null,
   "metadata": {},
   "outputs": [],
   "source": [
    "print(l1)\n",
    "l1.sort(reverse=False)\n",
    "print(l1)"
   ]
  },
  {
   "cell_type": "markdown",
   "metadata": {},
   "source": [
    "### copy():\n",
    "    - to copy list of elements from one list to another list\n",
    "    - newlist=old_listname()"
   ]
  },
  {
   "cell_type": "code",
   "execution_count": null,
   "metadata": {},
   "outputs": [],
   "source": [
    "print(l1)\n",
    "l2=l1.copy()\n",
    "print(l2)"
   ]
  },
  {
   "cell_type": "code",
   "execution_count": null,
   "metadata": {},
   "outputs": [],
   "source": [
    "li=['apple','banana','guva','mango']\n",
    "print(li)\n",
    "new_list=[]\n",
    "new_list=li.copy()\n",
    "print(new_list)"
   ]
  },
  {
   "cell_type": "code",
   "execution_count": null,
   "metadata": {},
   "outputs": [],
   "source": [
    "#### clear():\n",
    "        - to clear the data from list"
   ]
  },
  {
   "cell_type": "code",
   "execution_count": null,
   "metadata": {
    "scrolled": true
   },
   "outputs": [],
   "source": [
    "print(l1)\n",
    "print(li)\n",
    "print(l1.clear())\n",
    "print(l1)"
   ]
  },
  {
   "cell_type": "code",
   "execution_count": null,
   "metadata": {},
   "outputs": [],
   "source": [
    "li=[78,90,89,56,45,23]\n",
    "print(li)\n",
    "print(len(li))\n",
    "print(sum(li))\n",
    "print(max(li))\n",
    "print(min(li))"
   ]
  },
  {
   "cell_type": "markdown",
   "metadata": {},
   "source": [
    "### tuple():\n",
    "    - it is a collection of different types of data\n",
    "    - it is immutable\n",
    "    - it is represented as \"()\""
   ]
  },
  {
   "cell_type": "code",
   "execution_count": null,
   "metadata": {},
   "outputs": [],
   "source": [
    "t=(8,9,6)\n",
    "print(t)\n",
    "print(type(t))"
   ]
  },
  {
   "cell_type": "code",
   "execution_count": null,
   "metadata": {},
   "outputs": [],
   "source": [
    "print(dir(tuple))"
   ]
  },
  {
   "cell_type": "code",
   "execution_count": null,
   "metadata": {},
   "outputs": [],
   "source": []
  },
  {
   "cell_type": "code",
   "execution_count": null,
   "metadata": {
    "scrolled": true
   },
   "outputs": [],
   "source": [
    "print(t.count(8))\n",
    "print(t.index(6))"
   ]
  },
  {
   "cell_type": "code",
   "execution_count": null,
   "metadata": {},
   "outputs": [],
   "source": [
    "print(\"hello\")"
   ]
  },
  {
   "cell_type": "code",
   "execution_count": 4,
   "metadata": {},
   "outputs": [
    {
     "name": "stdout",
     "output_type": "stream",
     "text": [
      "6 28 496 "
     ]
    }
   ],
   "source": [
    "## tasks:\n",
    "## perfect nos range\n",
    "def perfect(n):\n",
    "    s=0\n",
    "    for i in range(1,n):\n",
    "        if n%i==0:\n",
    "            s=s+i\n",
    "    if s==n:\n",
    "        return True\n",
    "    else:\n",
    "        return False\n",
    "    \n",
    "perfect(6)\n",
    "\n",
    "def IsPerfect(a,b):\n",
    "    for i in range(a,b+1):\n",
    "        if perfect(i):\n",
    "            print(i,end=\" \")\n",
    "    \n",
    "    \n",
    "    \n",
    "IsPerfect(1,1000)"
   ]
  },
  {
   "cell_type": "code",
   "execution_count": 7,
   "metadata": {
    "collapsed": true
   },
   "outputs": [
    {
     "name": "stdout",
     "output_type": "stream",
     "text": [
      "Enter a table number5\n",
      "enter the starting range1\n",
      "enter the ending range5\n",
      "5 * 1 = 5\n",
      "5 * 2 = 10\n",
      "5 * 3 = 15\n",
      "5 * 4 = 20\n",
      "5 * 5 = 25\n"
     ]
    }
   ],
   "source": [
    "n=int(input(\"Enter a table number\"))\n",
    "a=int(input(\"enter the starting range\"))\n",
    "b=int(input(\"enter the ending range\"))\n",
    "def table(n,a,b):\n",
    "    for i in range(a,b+1):\n",
    "        print(n,'*',i,\"=\",n*i)\n",
    "\n",
    "    return \n",
    "table(n,a,b)"
   ]
  },
  {
   "cell_type": "markdown",
   "metadata": {},
   "source": [
    "#### \n",
    "i/p:l=[90,89,90,78,65,34,12,45]\n",
    "o/p:--->unique values---[90,89,78,65,34,12,45]\n"
   ]
  }
 ],
 "metadata": {
  "kernelspec": {
   "display_name": "Python 3",
   "language": "python",
   "name": "python3"
  }
 },
 "nbformat": 4,
 "nbformat_minor": 2
}
