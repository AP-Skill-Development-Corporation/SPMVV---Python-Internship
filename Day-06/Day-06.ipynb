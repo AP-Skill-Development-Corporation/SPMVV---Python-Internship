{
 "cells": [
  {
   "cell_type": "markdown",
   "id": "33b0cd2e",
   "metadata": {},
   "source": [
    "# Nested If\n",
    "    () => Optional case\n",
    "    - Syntax:\n",
    "        if condition-1:\n",
    "            if condition-2:\n",
    "                //stmnt-1\n",
    "            else:\n",
    "                //stmnt-2\n",
    "        else:\n",
    "            //stmnt-3"
   ]
  },
  {
   "cell_type": "code",
   "execution_count": 8,
   "id": "1d656cd3",
   "metadata": {},
   "outputs": [
    {
     "name": "stdout",
     "output_type": "stream",
     "text": [
      "enter a value:8\n",
      "8 is divisible by 2\n"
     ]
    }
   ],
   "source": [
    "a=int(input('enter a value:'))\n",
    "if(a%2==0):\n",
    "    if(a%3==0):\n",
    "        if(a%6==0):\n",
    "            print('{} is divisible by 6'.format(a))\n",
    "        else:\n",
    "            print('{} is divisible by 3,2 not with 6'.format(a))\n",
    "    else:\n",
    "        print('{} is divisible by 2'.format(a))\n",
    "else:\n",
    "    print('{} is not divisible by 2'.format(a))"
   ]
  },
  {
   "cell_type": "code",
   "execution_count": 18,
   "id": "8d6d82f1",
   "metadata": {},
   "outputs": [
    {
     "name": "stdout",
     "output_type": "stream",
     "text": [
      "enter a value:8\n",
      "8 is greater than 0\n"
     ]
    }
   ],
   "source": [
    "a=int(input(\"enter a value:\"))\n",
    "if(a>=0):\n",
    "    if(a==0):\n",
    "        print(f\"{a} is equal to 0\")\n",
    "    else:\n",
    "        print(f\"{a} is greater than 0\")\n",
    "else:\n",
    "     print(f\"{a} is less than 0\")   "
   ]
  },
  {
   "cell_type": "code",
   "execution_count": 28,
   "id": "0ae90730",
   "metadata": {},
   "outputs": [
    {
     "name": "stdout",
     "output_type": "stream",
     "text": [
      "Enter Username: prasad\n",
      "Enter Password: 123\n",
      "Welcome User prasad\n"
     ]
    }
   ],
   "source": [
    "u,p=\"prasad\",'123'\n",
    "name,pwd = input(\"Enter Username: \"),input(\"Enter Password: \")\n",
    "if name == u:\n",
    "    if pwd == p:\n",
    "        print(f\"Welcome User {name}\")\n",
    "    else:\n",
    "        print(\"Invalid Username/Password\")\n",
    "else:\n",
    "    print(\"Invalid Username/Password\")"
   ]
  },
  {
   "cell_type": "code",
   "execution_count": 29,
   "id": "92af825b",
   "metadata": {},
   "outputs": [
    {
     "name": "stdout",
     "output_type": "stream",
     "text": [
      "enter user name:13\n",
      "enter password:22\n",
      "error\n"
     ]
    }
   ],
   "source": [
    "x=\"haripriya\"\n",
    "a=input(\"enter user name:\")\n",
    "b=int(input(\"enter password:\"))\n",
    "y=2072032\n",
    "if(x==a and b==y):\n",
    "    print(\"welcome to our program\")\n",
    "else:\n",
    "    print(\"error\")"
   ]
  },
  {
   "cell_type": "code",
   "execution_count": 32,
   "id": "9d622919",
   "metadata": {},
   "outputs": [
    {
     "name": "stdout",
     "output_type": "stream",
     "text": [
      "enter mailyww@gmail.com\n",
      "enter password23\n",
      "welcome user yww@gmail.com\n"
     ]
    }
   ],
   "source": [
    "a=input(\"enter mail\")\n",
    "if(a==\"yww@gmail.com\"):\n",
    "    p=input(\"enter password\") \n",
    "    if p==\"23\":\n",
    "        print(f\"welcome user {a}\")\n",
    "    else:\n",
    "        print(\"invalid password\")\n",
    "else:\n",
    "    print(f\"invalid username{a}\")"
   ]
  },
  {
   "cell_type": "code",
   "execution_count": null,
   "id": "b69e71d7",
   "metadata": {},
   "outputs": [],
   "source": []
  }
 ],
 "metadata": {
  "kernelspec": {
   "display_name": "Python 3",
   "language": "python",
   "name": "python3"
  },
  "language_info": {
   "codemirror_mode": {
    "name": "ipython",
    "version": 3
   },
   "file_extension": ".py",
   "mimetype": "text/x-python",
   "name": "python",
   "nbconvert_exporter": "python",
   "pygments_lexer": "ipython3",
   "version": "3.7.5"
  }
 },
 "nbformat": 4,
 "nbformat_minor": 5
}
