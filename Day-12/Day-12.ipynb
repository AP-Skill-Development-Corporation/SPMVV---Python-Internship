{
 "cells": [
  {
   "cell_type": "markdown",
   "id": "b477f622",
   "metadata": {},
   "source": [
    "# Keyword argument:"
   ]
  },
  {
   "cell_type": "code",
   "execution_count": 2,
   "id": "31899373",
   "metadata": {},
   "outputs": [
    {
     "name": "stdout",
     "output_type": "stream",
     "text": [
      "Enter a Name: Likitha\n",
      "Enter a Branch: Mech\n",
      "Enter Year: 3\n",
      "Enter age: 25\n",
      "Your Name is: Likitha\n",
      "Your Age is: 25\n",
      "Your Branch is: Mech\n",
      "Your Year is: 3\n"
     ]
    }
   ],
   "source": [
    "def stdntdtls(yr,na,br,ag):\n",
    "    print(f\"Your Name is: {na}\\nYour Age is: {ag}\\n\"\n",
    "         f\"Your Branch is: {br}\\nYour Year is: {yr}\")\n",
    "    return\n",
    "\n",
    "n = input(\"Enter a Name: \")\n",
    "b = input(\"Enter a Branch: \")\n",
    "y = input(\"Enter Year: \")\n",
    "a = input(\"Enter age: \")\n",
    "stdntdtls(na=n,br=b,yr=y,ag=a)"
   ]
  },
  {
   "cell_type": "code",
   "execution_count": 3,
   "id": "0cb5ffe9",
   "metadata": {},
   "outputs": [
    {
     "name": "stdout",
     "output_type": "stream",
     "text": [
      "Enter a Name: Prasad\n",
      "Enter a Branch: CSE\n",
      "Enter Year: 1\n",
      "Enter age: 24\n"
     ]
    },
    {
     "ename": "TypeError",
     "evalue": "stdntdtls() missing 1 required positional argument: 'm'",
     "output_type": "error",
     "traceback": [
      "\u001b[1;31m---------------------------------------------------------------------\u001b[0m",
      "\u001b[1;31mTypeError\u001b[0m                           Traceback (most recent call last)",
      "\u001b[1;32m<ipython-input-3-4e653e2146f7>\u001b[0m in \u001b[0;36m<module>\u001b[1;34m\u001b[0m\n\u001b[0;32m      8\u001b[0m \u001b[0my\u001b[0m \u001b[1;33m=\u001b[0m \u001b[0minput\u001b[0m\u001b[1;33m(\u001b[0m\u001b[1;34m\"Enter Year: \"\u001b[0m\u001b[1;33m)\u001b[0m\u001b[1;33m\u001b[0m\u001b[1;33m\u001b[0m\u001b[0m\n\u001b[0;32m      9\u001b[0m \u001b[0ma\u001b[0m \u001b[1;33m=\u001b[0m \u001b[0minput\u001b[0m\u001b[1;33m(\u001b[0m\u001b[1;34m\"Enter age: \"\u001b[0m\u001b[1;33m)\u001b[0m\u001b[1;33m\u001b[0m\u001b[1;33m\u001b[0m\u001b[0m\n\u001b[1;32m---> 10\u001b[1;33m \u001b[0mstdntdtls\u001b[0m\u001b[1;33m(\u001b[0m\u001b[0mna\u001b[0m\u001b[1;33m=\u001b[0m\u001b[0mn\u001b[0m\u001b[1;33m,\u001b[0m\u001b[0mbr\u001b[0m\u001b[1;33m=\u001b[0m\u001b[0mb\u001b[0m\u001b[1;33m,\u001b[0m\u001b[0myr\u001b[0m\u001b[1;33m=\u001b[0m\u001b[0my\u001b[0m\u001b[1;33m,\u001b[0m\u001b[0mag\u001b[0m\u001b[1;33m=\u001b[0m\u001b[0ma\u001b[0m\u001b[1;33m)\u001b[0m\u001b[1;33m\u001b[0m\u001b[1;33m\u001b[0m\u001b[0m\n\u001b[0m",
      "\u001b[1;31mTypeError\u001b[0m: stdntdtls() missing 1 required positional argument: 'm'"
     ]
    }
   ],
   "source": [
    "def stdntdtls(yr,na,br,ag,m):\n",
    "    print(f\"Your Name is: {na}\\nYour Age is: {ag}\\n\"\n",
    "         f\"Your Branch is: {br}\\nYour Year is: {yr}\")\n",
    "    return\n",
    "\n",
    "n = input(\"Enter a Name: \")\n",
    "b = input(\"Enter a Branch: \")\n",
    "y = input(\"Enter Year: \")\n",
    "a = input(\"Enter age: \")\n",
    "stdntdtls(na=n,br=b,yr=y,ag=a)"
   ]
  },
  {
   "cell_type": "code",
   "execution_count": 4,
   "id": "0657f2bb",
   "metadata": {},
   "outputs": [
    {
     "name": "stdout",
     "output_type": "stream",
     "text": [
      "Enter a Name: ramu\n",
      "Enter a Branch: EEE\n",
      "Enter Year: 2\n",
      "Enter age: 21\n",
      "Your Name is: ramu\n",
      "Your Age is: 21\n",
      "Your Branch is: EEE\n",
      "Your Year is: 2\n",
      "Your random id is: 1245\n"
     ]
    }
   ],
   "source": [
    "def stdntdtls(yr,na,br,ag,m=1245):\n",
    "    print(f\"Your Name is: {na}\\nYour Age is: {ag}\\n\"\n",
    "         f\"Your Branch is: {br}\\nYour Year is: {yr}\\n\"\n",
    "         f\"Your random id is: {m}\")\n",
    "    return\n",
    "\n",
    "n = input(\"Enter a Name: \")\n",
    "b = input(\"Enter a Branch: \")\n",
    "y = input(\"Enter Year: \")\n",
    "a = input(\"Enter age: \")\n",
    "stdntdtls(na=n,br=b,yr=y,ag=a)"
   ]
  },
  {
   "cell_type": "code",
   "execution_count": 5,
   "id": "fe878575",
   "metadata": {},
   "outputs": [
    {
     "ename": "SyntaxError",
     "evalue": "non-default argument follows default argument (<ipython-input-5-5931c435b6de>, line 1)",
     "output_type": "error",
     "traceback": [
      "\u001b[1;36m  File \u001b[1;32m\"<ipython-input-5-5931c435b6de>\"\u001b[1;36m, line \u001b[1;32m1\u001b[0m\n\u001b[1;33m    def stdntdtls(yr,m=1245,na,br,ag):\u001b[0m\n\u001b[1;37m                 ^\u001b[0m\n\u001b[1;31mSyntaxError\u001b[0m\u001b[1;31m:\u001b[0m non-default argument follows default argument\n"
     ]
    }
   ],
   "source": [
    "def stdntdtls(yr,m=1245,na,br,ag):\n",
    "    print(f\"Your Name is: {na}\\nYour Age is: {ag}\\n\"\n",
    "         f\"Your Branch is: {br}\\nYour Year is: {yr}\\n\"\n",
    "         f\"Your random id is: {m}\")\n",
    "    return\n",
    "\n",
    "n = input(\"Enter a Name: \")\n",
    "b = input(\"Enter a Branch: \")\n",
    "y = input(\"Enter Year: \")\n",
    "a = input(\"Enter age: \")\n",
    "stdntdtls(na=n,br=b,yr=y,ag=a)"
   ]
  },
  {
   "cell_type": "markdown",
   "id": "c4480db2",
   "metadata": {},
   "source": [
    "# Variable Length argument:"
   ]
  },
  {
   "cell_type": "code",
   "execution_count": 6,
   "id": "a58cc563",
   "metadata": {},
   "outputs": [
    {
     "name": "stdout",
     "output_type": "stream",
     "text": [
      "Yeshwanth <class 'str'>\n",
      "(10, '20', 15.02121, False) <class 'tuple'>\n"
     ]
    }
   ],
   "source": [
    "def smple(p,*g):\n",
    "    print(p,type(p))\n",
    "    print(g,type(g))\n",
    "    return\n",
    "\n",
    "smple('Yeshwanth',10,'20',15.02121,False)"
   ]
  },
  {
   "cell_type": "code",
   "execution_count": 7,
   "id": "f3303d3f",
   "metadata": {},
   "outputs": [
    {
     "name": "stdout",
     "output_type": "stream",
     "text": [
      "('Yeshwanth', 10, '20', 15.02121, False, 456454) <class 'tuple'>\n"
     ]
    }
   ],
   "source": [
    "def smpl(*k):\n",
    "    print(k,type(k))\n",
    "    return\n",
    "\n",
    "smpl('Yeshwanth',10,'20',15.02121,False,456454)"
   ]
  },
  {
   "cell_type": "code",
   "execution_count": 8,
   "id": "b83d5306",
   "metadata": {},
   "outputs": [
    {
     "name": "stdout",
     "output_type": "stream",
     "text": [
      "Yeshwanth <class 'str'>\n",
      "(10, '20', 15.02121, False) <class 'tuple'>\n",
      "{'name': 'Sathish', 'age': 28, 'sal': 25400} <class 'dict'>\n"
     ]
    }
   ],
   "source": [
    "def smple(p,*g,**r):\n",
    "    print(p,type(p))\n",
    "    print(g,type(g))\n",
    "    print(r,type(r))\n",
    "    return\n",
    "\n",
    "smple('Yeshwanth',10,'20',15.02121,False,name='Sathish',age=28,sal=25400)"
   ]
  },
  {
   "cell_type": "code",
   "execution_count": 9,
   "id": "71bb144e",
   "metadata": {},
   "outputs": [
    {
     "ename": "SyntaxError",
     "evalue": "positional argument follows keyword argument (<ipython-input-9-9e26efe326bc>, line 7)",
     "output_type": "error",
     "traceback": [
      "\u001b[1;36m  File \u001b[1;32m\"<ipython-input-9-9e26efe326bc>\"\u001b[1;36m, line \u001b[1;32m7\u001b[0m\n\u001b[1;33m    smple('Yeshwanth',10,'20',age=28,15.02121,False,name='Sathish',sal=25400)\u001b[0m\n\u001b[1;37m                                    ^\u001b[0m\n\u001b[1;31mSyntaxError\u001b[0m\u001b[1;31m:\u001b[0m positional argument follows keyword argument\n"
     ]
    }
   ],
   "source": [
    "def smple(p,*g,**r):\n",
    "    print(p,type(p))\n",
    "    print(g,type(g))\n",
    "    print(r,type(r))\n",
    "    return\n",
    "\n",
    "smple('Yeshwanth',10,'20',age=28,15.02121,False,name='Sathish',sal=25400)"
   ]
  },
  {
   "cell_type": "code",
   "execution_count": 12,
   "id": "10b5909a",
   "metadata": {},
   "outputs": [
    {
     "ename": "TypeError",
     "evalue": "smple() missing 1 required keyword-only argument: 'm'",
     "output_type": "error",
     "traceback": [
      "\u001b[1;31m---------------------------------------------------------------------\u001b[0m",
      "\u001b[1;31mTypeError\u001b[0m                           Traceback (most recent call last)",
      "\u001b[1;32m<ipython-input-12-bfebd0b052b7>\u001b[0m in \u001b[0;36m<module>\u001b[1;34m\u001b[0m\n\u001b[0;32m      6\u001b[0m     \u001b[1;32mreturn\u001b[0m\u001b[1;33m\u001b[0m\u001b[1;33m\u001b[0m\u001b[0m\n\u001b[0;32m      7\u001b[0m \u001b[1;33m\u001b[0m\u001b[0m\n\u001b[1;32m----> 8\u001b[1;33m \u001b[0msmple\u001b[0m\u001b[1;33m(\u001b[0m\u001b[1;34m'Yeshwanth'\u001b[0m\u001b[1;33m,\u001b[0m\u001b[1;36m10\u001b[0m\u001b[1;33m,\u001b[0m\u001b[1;34m'20'\u001b[0m\u001b[1;33m,\u001b[0m\u001b[1;36m15.02121\u001b[0m\u001b[1;33m,\u001b[0m\u001b[1;32mFalse\u001b[0m\u001b[1;33m,\u001b[0m\u001b[0mname\u001b[0m\u001b[1;33m=\u001b[0m\u001b[1;34m'Sathish'\u001b[0m\u001b[1;33m,\u001b[0m\u001b[0mage\u001b[0m\u001b[1;33m=\u001b[0m\u001b[1;36m28\u001b[0m\u001b[1;33m,\u001b[0m\u001b[0msal\u001b[0m\u001b[1;33m=\u001b[0m\u001b[1;36m25400\u001b[0m\u001b[1;33m)\u001b[0m\u001b[1;33m\u001b[0m\u001b[1;33m\u001b[0m\u001b[0m\n\u001b[0m",
      "\u001b[1;31mTypeError\u001b[0m: smple() missing 1 required keyword-only argument: 'm'"
     ]
    }
   ],
   "source": [
    "def smple(p=52,*g,m,**r):\n",
    "    print(p,type(p))\n",
    "    print(g,type(g))\n",
    "    print(r,type(r))\n",
    "    print(m,type(m))\n",
    "    return\n",
    "\n",
    "smple('Yeshwanth',10,'20',15.02121,False,name='Sathish',age=28,sal=25400)"
   ]
  },
  {
   "cell_type": "code",
   "execution_count": 13,
   "id": "76e1676d",
   "metadata": {},
   "outputs": [
    {
     "name": "stdout",
     "output_type": "stream",
     "text": [
      "('Yeshwanth', 10, '20', 15.02121, False) <class 'tuple'>\n",
      "{'name': 'Sathish', 'age': 28, 'sal': 25400} <class 'dict'>\n"
     ]
    }
   ],
   "source": [
    "def smple(*g,**r):\n",
    "    print(g,type(g))\n",
    "    print(r,type(r))\n",
    "    return\n",
    "\n",
    "smple('Yeshwanth',10,'20',15.02121,False,name='Sathish',age=28,sal=25400)"
   ]
  },
  {
   "cell_type": "code",
   "execution_count": 14,
   "id": "e1bf4dcd",
   "metadata": {},
   "outputs": [
    {
     "ename": "TypeError",
     "evalue": "smple() takes 1 positional argument but 5 were given",
     "output_type": "error",
     "traceback": [
      "\u001b[1;31m---------------------------------------------------------------------\u001b[0m",
      "\u001b[1;31mTypeError\u001b[0m                           Traceback (most recent call last)",
      "\u001b[1;32m<ipython-input-14-eb5ab11cece2>\u001b[0m in \u001b[0;36m<module>\u001b[1;34m\u001b[0m\n\u001b[0;32m      4\u001b[0m     \u001b[1;32mreturn\u001b[0m\u001b[1;33m\u001b[0m\u001b[1;33m\u001b[0m\u001b[0m\n\u001b[0;32m      5\u001b[0m \u001b[1;33m\u001b[0m\u001b[0m\n\u001b[1;32m----> 6\u001b[1;33m \u001b[0msmple\u001b[0m\u001b[1;33m(\u001b[0m\u001b[1;34m'Yeshwanth'\u001b[0m\u001b[1;33m,\u001b[0m\u001b[1;36m10\u001b[0m\u001b[1;33m,\u001b[0m\u001b[1;34m'20'\u001b[0m\u001b[1;33m,\u001b[0m\u001b[1;36m15.02121\u001b[0m\u001b[1;33m,\u001b[0m\u001b[1;32mFalse\u001b[0m\u001b[1;33m,\u001b[0m\u001b[0mname\u001b[0m\u001b[1;33m=\u001b[0m\u001b[1;34m'Sathish'\u001b[0m\u001b[1;33m,\u001b[0m\u001b[0mage\u001b[0m\u001b[1;33m=\u001b[0m\u001b[1;36m28\u001b[0m\u001b[1;33m,\u001b[0m\u001b[0msal\u001b[0m\u001b[1;33m=\u001b[0m\u001b[1;36m25400\u001b[0m\u001b[1;33m)\u001b[0m\u001b[1;33m\u001b[0m\u001b[1;33m\u001b[0m\u001b[0m\n\u001b[0m",
      "\u001b[1;31mTypeError\u001b[0m: smple() takes 1 positional argument but 5 were given"
     ]
    }
   ],
   "source": [
    "def smple(g,**r):\n",
    "    print(g,type(g))\n",
    "    print(r,type(r))\n",
    "    return\n",
    "\n",
    "smple('Yeshwanth',10,'20',15.02121,False,name='Sathish',age=28,sal=25400)"
   ]
  },
  {
   "cell_type": "code",
   "execution_count": 15,
   "id": "41a53d2d",
   "metadata": {},
   "outputs": [
    {
     "name": "stdout",
     "output_type": "stream",
     "text": [
      "{'name': 'Sathish', 'age': 28, 'sal': 25400, 'cmpny': 'TCS'} <class 'dict'>\n"
     ]
    }
   ],
   "source": [
    "def smple(**r):\n",
    "    print(r,type(r))\n",
    "    return\n",
    "\n",
    "smple(name='Sathish',age=28,sal=25400,cmpny=\"TCS\")"
   ]
  },
  {
   "cell_type": "code",
   "execution_count": 18,
   "id": "945aa032",
   "metadata": {},
   "outputs": [
    {
     "name": "stdout",
     "output_type": "stream",
     "text": [
      "Enter a value:2\n",
      "2 is even\n"
     ]
    }
   ],
   "source": [
    "def even(a):\n",
    "    if(a%2==0):\n",
    "        print(f'{a} is even')\n",
    "    else:\n",
    "        print(f'{a} is odd')\n",
    "    return\n",
    "\n",
    "b=int(input('Enter a value:'))\n",
    "even(b)"
   ]
  },
  {
   "cell_type": "code",
   "execution_count": 20,
   "id": "1b64d921",
   "metadata": {},
   "outputs": [
    {
     "name": "stdout",
     "output_type": "stream",
     "text": [
      "Enter a range: 6\n",
      "Even sum is: 6\n",
      "Odd sum is: 9\n"
     ]
    }
   ],
   "source": [
    "def evods(n):\n",
    "    es,os = 0,0\n",
    "    for i in range(1,n):\n",
    "        if i%2==0:\n",
    "            es+=i\n",
    "        else:\n",
    "            os+=i\n",
    "    print(f\"Even sum is: {es}\")\n",
    "    print(f\"Odd sum is: {os}\")\n",
    "    return\n",
    "\n",
    "b = int(input(\"Enter a range: \"))\n",
    "evods(b)"
   ]
  },
  {
   "cell_type": "code",
   "execution_count": null,
   "id": "f335baee",
   "metadata": {},
   "outputs": [],
   "source": []
  }
 ],
 "metadata": {
  "kernelspec": {
   "display_name": "Python 3",
   "language": "python",
   "name": "python3"
  },
  "language_info": {
   "codemirror_mode": {
    "name": "ipython",
    "version": 3
   },
   "file_extension": ".py",
   "mimetype": "text/x-python",
   "name": "python",
   "nbconvert_exporter": "python",
   "pygments_lexer": "ipython3",
   "version": "3.7.5"
  }
 },
 "nbformat": 4,
 "nbformat_minor": 5
}
