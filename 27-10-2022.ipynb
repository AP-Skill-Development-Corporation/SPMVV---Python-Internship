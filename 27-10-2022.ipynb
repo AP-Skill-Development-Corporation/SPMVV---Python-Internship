{
 "cells": [
  {
   "cell_type": "markdown",
   "metadata": {},
   "source": [
    "#### String methods:\n",
    "    "
   ]
  },
  {
   "cell_type": "code",
   "execution_count": 2,
   "metadata": {},
   "outputs": [
    {
     "name": "stdout",
     "output_type": "stream",
     "text": [
      "['__add__', '__class__', '__contains__', '__delattr__', '__dir__', '__doc__', '__eq__', '__format__', '__ge__', '__getattribute__', '__getitem__', '__getnewargs__', '__gt__', '__hash__', '__init__', '__init_subclass__', '__iter__', '__le__', '__len__', '__lt__', '__mod__', '__mul__', '__ne__', '__new__', '__reduce__', '__reduce_ex__', '__repr__', '__rmod__', '__rmul__', '__setattr__', '__sizeof__', '__str__', '__subclasshook__', 'capitalize', 'casefold', 'center', 'count', 'encode', 'endswith', 'expandtabs', 'find', 'format', 'format_map', 'index', 'isalnum', 'isalpha', 'isascii', 'isdecimal', 'isdigit', 'isidentifier', 'islower', 'isnumeric', 'isprintable', 'isspace', 'istitle', 'isupper', 'join', 'ljust', 'lower', 'lstrip', 'maketrans', 'partition', 'replace', 'rfind', 'rindex', 'rjust', 'rpartition', 'rsplit', 'rstrip', 'split', 'splitlines', 'startswith', 'strip', 'swapcase', 'title', 'translate', 'upper', 'zfill']\n"
     ]
    }
   ],
   "source": [
    "print(dir(str))"
   ]
  },
  {
   "cell_type": "code",
   "execution_count": 5,
   "metadata": {},
   "outputs": [
    {
     "name": "stdout",
     "output_type": "stream",
     "text": [
      "python workshop\n",
      "15\n"
     ]
    }
   ],
   "source": [
    "s=\"python workshop\"\n",
    "print(s)\n",
    "print(len(s))"
   ]
  },
  {
   "cell_type": "code",
   "execution_count": 9,
   "metadata": {},
   "outputs": [
    {
     "name": "stdout",
     "output_type": "stream",
     "text": [
      "False\n",
      "True\n"
     ]
    }
   ],
   "source": [
    "### isupper()--->string.isupper()---it return boolean values[T,F]\n",
    "### islower()---->string.islower()\n",
    "print(\"Python workshop\".islower())\n",
    "print(\"PYTHON WORKSHOP\".isupper())\n"
   ]
  },
  {
   "cell_type": "code",
   "execution_count": 11,
   "metadata": {},
   "outputs": [
    {
     "name": "stdout",
     "output_type": "stream",
     "text": [
      "PYTHON\n",
      "python\n"
     ]
    }
   ],
   "source": [
    "#### Lower()--->string.lower()\n",
    "#### upper()---->string.upper()\n",
    "print(\"python\".upper())\n",
    "print(\"Python\".lower())"
   ]
  },
  {
   "cell_type": "code",
   "execution_count": 13,
   "metadata": {},
   "outputs": [
    {
     "name": "stdout",
     "output_type": "stream",
     "text": [
      "4\n",
      "1\n"
     ]
    }
   ],
   "source": [
    "## index('character')--->it returns position of  particular character\n",
    "print(\"python\".index('o'))\n",
    "print(\"python\".index('y'))"
   ]
  },
  {
   "cell_type": "code",
   "execution_count": 16,
   "metadata": {},
   "outputs": [
    {
     "name": "stdout",
     "output_type": "stream",
     "text": [
      "3\n",
      "2\n",
      "2\n"
     ]
    }
   ],
   "source": [
    "### count('character')-->string.count('ch')-->it returns no of occurances\n",
    "print(\"python workshop\".count('o'))\n",
    "print(\"python workshop\".count('h'))\n",
    "print(\"python workshop\".count('p'))\n"
   ]
  },
  {
   "cell_type": "code",
   "execution_count": 20,
   "metadata": {},
   "outputs": [
    {
     "name": "stdout",
     "output_type": "stream",
     "text": [
      "['python', 'workshop']\n",
      "['python', 'workshop']\n",
      "['pyth', 'n w', 'rksh', 'p']\n",
      "['', 'thon workshop']\n"
     ]
    }
   ],
   "source": [
    "#### split()--->strng.split()\n",
    "print(\"python workshop\".split())\n",
    "print(\"python workshop\".split(' '))\n",
    "print(\"python workshop\".split('o'))\n",
    "print(\"python workshop\".split('py'))"
   ]
  },
  {
   "cell_type": "code",
   "execution_count": 23,
   "metadata": {
    "collapsed": true
   },
   "outputs": [
    {
     "name": "stdout",
     "output_type": "stream",
     "text": [
      "p@$y@$t@$h@$o@$n@$ @$w@$o@$r@$k@$s@$h@$o@$p\n",
      "pgreenygreentgreenhgreenogreenngreen greenwgreenogreenrgreenkgreensgreenhgreenogreenp\n"
     ]
    }
   ],
   "source": [
    "#### join()--->string.join()\n",
    "f=\"python workshop\"\n",
    "print('@$'.join(f))\n",
    "print('green'.join(f))\n"
   ]
  },
  {
   "cell_type": "code",
   "execution_count": 25,
   "metadata": {},
   "outputs": [
    {
     "name": "stdout",
     "output_type": "stream",
     "text": [
      "True\n",
      "False\n"
     ]
    }
   ],
   "source": [
    "### isdigit()--->string.isdigit()\n",
    "print(\"123456\".isdigit())\n",
    "print(\"python123456\".isdigit())"
   ]
  },
  {
   "cell_type": "code",
   "execution_count": 30,
   "metadata": {
    "collapsed": true
   },
   "outputs": [
    {
     "name": "stdout",
     "output_type": "stream",
     "text": [
      "Python\n",
      "True\n",
      "Python Workshop\n",
      "False\n"
     ]
    }
   ],
   "source": [
    "### title()-->string.title()\n",
    "### istitle()--->string.istitle()\n",
    "print(\"python\".title())\n",
    "print(\"Python\".istitle())\n",
    "print(\"python workshop\".title())\n",
    "print(\"python Workshop\".istitle())"
   ]
  },
  {
   "cell_type": "code",
   "execution_count": 33,
   "metadata": {},
   "outputs": [
    {
     "name": "stdout",
     "output_type": "stream",
     "text": [
      "PYTHON workshop\n"
     ]
    }
   ],
   "source": [
    "### swapecase()\n",
    "print(\"python WORKSHOP\".swapcase())"
   ]
  },
  {
   "cell_type": "code",
   "execution_count": 37,
   "metadata": {},
   "outputs": [
    {
     "name": "stdout",
     "output_type": "stream",
     "text": [
      "python workshop\n",
      "15\n",
      "000000000000000python workshop\n"
     ]
    }
   ],
   "source": [
    "###zfill--->zero filling()--->string.zfill()-->it adds zeros at the begining the string\n",
    "s=\"python workshop\"\n",
    "print(s)\n",
    "print(len(s))\n",
    "print(s.zfill(30))"
   ]
  },
  {
   "cell_type": "code",
   "execution_count": 38,
   "metadata": {},
   "outputs": [
    {
     "name": "stdout",
     "output_type": "stream",
     "text": [
      "This is python workshop\n"
     ]
    }
   ],
   "source": [
    "### .format()---{}-->placeholder\n",
    "a=\"python\"\n",
    "print(\"This is {} workshop\".format(a))"
   ]
  },
  {
   "cell_type": "code",
   "execution_count": 42,
   "metadata": {},
   "outputs": [
    {
     "name": "stdout",
     "output_type": "stream",
     "text": [
      "my name is siri and my age is 24\n"
     ]
    }
   ],
   "source": [
    "b=\"my name is {fname} and my age is {a}\".format(fname=\"siri\",a=24)\n",
    "print(b)"
   ]
  },
  {
   "cell_type": "code",
   "execution_count": 43,
   "metadata": {},
   "outputs": [
    {
     "data": {
      "text/plain": [
       "'my name is siri and my age is 24'"
      ]
     },
     "execution_count": 43,
     "metadata": {},
     "output_type": "execute_result"
    }
   ],
   "source": [
    "b=\"my name is {0} and my age is {1}\".format(\"siri\",24)\n",
    "b"
   ]
  },
  {
   "cell_type": "code",
   "execution_count": 45,
   "metadata": {},
   "outputs": [
    {
     "name": "stdout",
     "output_type": "stream",
     "text": [
      "worsshop\n",
      "korkshop\n"
     ]
    }
   ],
   "source": [
    "### replace--->string.replace('','')\n",
    "g=\"workshop\"\n",
    "print(g.replace('k','s'))\n",
    "print(g.replace('w','k'))"
   ]
  },
  {
   "cell_type": "code",
   "execution_count": null,
   "metadata": {},
   "outputs": [],
   "source": [
    "#### problem solving on strings:\n"
   ]
  },
  {
   "cell_type": "code",
   "execution_count": null,
   "metadata": {},
   "outputs": [],
   "source": [
    "### to check whether the given string is palindrome or not?\n",
    "### palindromic strings:mom--->mom,madam--->madam--->malayalam--->malayalam"
   ]
  },
  {
   "cell_type": "code",
   "execution_count": 46,
   "metadata": {},
   "outputs": [
    {
     "name": "stdout",
     "output_type": "stream",
     "text": [
      "enter your stringmadam\n",
      "m a d a m "
     ]
    }
   ],
   "source": [
    "s=input(\"enter your string\")\n",
    "for i in s:\n",
    "    print(i,end=\" \")"
   ]
  },
  {
   "cell_type": "code",
   "execution_count": 51,
   "metadata": {},
   "outputs": [
    {
     "name": "stdout",
     "output_type": "stream",
     "text": [
      "enter your stringmadam\n",
      "palindromic string\n"
     ]
    }
   ],
   "source": [
    "s=input(\"enter your string\")\n",
    "r=s[::-1]\n",
    "if s==r:\n",
    "    print(\"palindromic string\")\n",
    "else:\n",
    "    print(\"not a palindromic string\")"
   ]
  },
  {
   "cell_type": "code",
   "execution_count": 57,
   "metadata": {},
   "outputs": [
    {
     "name": "stdout",
     "output_type": "stream",
     "text": [
      "enter your stringmadam\n",
      "palindromic string\n"
     ]
    }
   ],
   "source": [
    "s=input(\"enter your string\")\n",
    "def Palindrome(s):\n",
    "    r=s[::-1]\n",
    "    if s==r:\n",
    "        print(\"palindromic string\")\n",
    "    else:\n",
    "        print(\"not a palindromic string\")\n",
    "Palindrome(s)"
   ]
  },
  {
   "cell_type": "markdown",
   "metadata": {},
   "source": [
    "#### mixed string:fdgfdfdFSDSF34323233#@!%^\n",
    "#### count--->small letters count,capitaletters count,digits count,special chars count\n"
   ]
  },
  {
   "cell_type": "code",
   "execution_count": 67,
   "metadata": {},
   "outputs": [
    {
     "name": "stdout",
     "output_type": "stream",
     "text": [
      "Enter your stringgfhjfutt866@\n",
      "12\n",
      "total small letters count is: 8\n",
      "total capital  letters count is: 0\n",
      "total digits count is: 3\n",
      "total special characters count is: 1\n"
     ]
    }
   ],
   "source": [
    "s=input(\"Enter your string\")\n",
    "print(len(s))\n",
    "small=upper=digits=spe=0\n",
    "for i in s:\n",
    "    if i.islower():\n",
    "        small=small+1\n",
    "    elif i.isupper():\n",
    "        upper=upper+1\n",
    "    elif i.isdigit():\n",
    "        digits=digits+1\n",
    "    else:\n",
    "        spe=spe+1\n",
    "        \n",
    "print(\"total small letters count is:\",small)\n",
    "print(\"total capital  letters count is:\",upper)\n",
    "print(\"total digits count is:\",digits)\n",
    "print(\"total special characters count is:\",spe)\n",
    "   "
   ]
  },
  {
   "cell_type": "code",
   "execution_count": 70,
   "metadata": {},
   "outputs": [
    {
     "name": "stdout",
     "output_type": "stream",
     "text": [
      "2 3 5 7 11 13 17 19 23 29 31 37 41 43 47 53 59 61 67 71 73 79 83 89 97 "
     ]
    }
   ],
   "source": [
    "def Prime(n):\n",
    "    count=0\n",
    "    for i in range(1,n+1):\n",
    "        if n%i==0:\n",
    "            count=count+1\n",
    "    if count==2:\n",
    "        return True\n",
    "    else:\n",
    "        return False\n",
    "    \n",
    "Prime(10)\n",
    "\n",
    "### range\n",
    "def IsPrime(a,b):\n",
    "    for i in range(a,b+1):\n",
    "        if Prime(i):\n",
    "            print(i,end=\" \")\n",
    "            \n",
    "IsPrime(1,100)\n",
    "    "
   ]
  },
  {
   "cell_type": "code",
   "execution_count": null,
   "metadata": {},
   "outputs": [],
   "source": [
    "#### number table printing\n",
    "#### perfect numbers range"
   ]
  },
  {
   "cell_type": "code",
   "execution_count": null,
   "metadata": {},
   "outputs": [],
   "source": []
  }
 ],
 "metadata": {
  "kernelspec": {
   "display_name": "Python 3",
   "language": "python",
   "name": "python3"
  },
  "language_info": {
   "codemirror_mode": {
    "name": "ipython",
    "version": 3
   },
   "file_extension": ".py",
   "mimetype": "text/x-python",
   "name": "python",
   "nbconvert_exporter": "python",
   "pygments_lexer": "ipython3",
   "version": "3.7.3"
  }
 },
 "nbformat": 4,
 "nbformat_minor": 2
}
