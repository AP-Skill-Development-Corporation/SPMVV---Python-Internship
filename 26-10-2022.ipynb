{
 "cells": [
  {
   "cell_type": "markdown",
   "metadata": {},
   "source": [
    "### Strings:\n",
    "    - it is a collection of characters or it contains set of characters\n",
    "    - represents with '',\"\",''' '''\n",
    "    - index is starts from \"0\"\n",
    "    - index represents with \"[]\"\n",
    "    - immutable\n",
    "    "
   ]
  },
  {
   "cell_type": "code",
   "execution_count": 3,
   "metadata": {},
   "outputs": [
    {
     "name": "stdout",
     "output_type": "stream",
     "text": [
      "python workshop\n"
     ]
    }
   ],
   "source": [
    "s=\"python workshop\"\n",
    "print(s)"
   ]
  },
  {
   "cell_type": "code",
   "execution_count": 4,
   "metadata": {},
   "outputs": [
    {
     "name": "stdout",
     "output_type": "stream",
     "text": [
      "python workshop\n"
     ]
    }
   ],
   "source": [
    "s='python workshop'\n",
    "print(s)"
   ]
  },
  {
   "cell_type": "code",
   "execution_count": 5,
   "metadata": {},
   "outputs": [
    {
     "name": "stdout",
     "output_type": "stream",
     "text": [
      "python workshop\n"
     ]
    }
   ],
   "source": [
    "s='''python workshop'''\n",
    "print(s)"
   ]
  },
  {
   "cell_type": "code",
   "execution_count": 9,
   "metadata": {
    "collapsed": true
   },
   "outputs": [
    {
     "name": "stdout",
     "output_type": "stream",
     "text": [
      "h\n",
      "n\n",
      "o\n",
      "s\n"
     ]
    }
   ],
   "source": [
    "#### index\n",
    "print(s[3])\n",
    "print(s[5])\n",
    "print(s[4])\n",
    "print(s[11])"
   ]
  },
  {
   "cell_type": "markdown",
   "metadata": {},
   "source": [
    "#### Slicing:if you want access more than one character from string\n",
    "        - syntax:\n",
    "                string[start index:end index+1:step value]"
   ]
  },
  {
   "cell_type": "code",
   "execution_count": 33,
   "metadata": {
    "collapsed": true
   },
   "outputs": [
    {
     "name": "stdout",
     "output_type": "stream",
     "text": [
      "python workshop\n",
      "python workshop\n",
      "pyt\n",
      "pyt\n",
      "thon\n",
      "workshop\n",
      "workshop\n",
      "python\n",
      "pto okhp\n",
      "sho\n",
      "pohskrow nohtyp\n",
      "phko otp\n"
     ]
    }
   ],
   "source": [
    "print(s)\n",
    "print(s[:])\n",
    "print(s[0:3])\n",
    "print(s[:3])\n",
    "print(s[2:6])\n",
    "print(s[7:15])\n",
    "print(s[7:])\n",
    "print(s[:6])\n",
    "print(s[::2])\n",
    "print(s[-4:-1])\n",
    "print(s[::-1])\n",
    "print(s[::-2])"
   ]
  },
  {
   "cell_type": "code",
   "execution_count": null,
   "metadata": {},
   "outputs": [],
   "source": [
    "#### String methods:\n",
    "    - "
   ]
  },
  {
   "cell_type": "code",
   "execution_count": 34,
   "metadata": {},
   "outputs": [
    {
     "name": "stdout",
     "output_type": "stream",
     "text": [
      "['__add__', '__class__', '__contains__', '__delattr__', '__dir__', '__doc__', '__eq__', '__format__', '__ge__', '__getattribute__', '__getitem__', '__getnewargs__', '__gt__', '__hash__', '__init__', '__init_subclass__', '__iter__', '__le__', '__len__', '__lt__', '__mod__', '__mul__', '__ne__', '__new__', '__reduce__', '__reduce_ex__', '__repr__', '__rmod__', '__rmul__', '__setattr__', '__sizeof__', '__str__', '__subclasshook__', 'capitalize', 'casefold', 'center', 'count', 'encode', 'endswith', 'expandtabs', 'find', 'format', 'format_map', 'index', 'isalnum', 'isalpha', 'isascii', 'isdecimal', 'isdigit', 'isidentifier', 'islower', 'isnumeric', 'isprintable', 'isspace', 'istitle', 'isupper', 'join', 'ljust', 'lower', 'lstrip', 'maketrans', 'partition', 'replace', 'rfind', 'rindex', 'rjust', 'rpartition', 'rsplit', 'rstrip', 'split', 'splitlines', 'startswith', 'strip', 'swapcase', 'title', 'translate', 'upper', 'zfill']\n"
     ]
    }
   ],
   "source": [
    "print(dir(str))"
   ]
  },
  {
   "cell_type": "code",
   "execution_count": 35,
   "metadata": {},
   "outputs": [
    {
     "name": "stdout",
     "output_type": "stream",
     "text": [
      "python workshop\n"
     ]
    }
   ],
   "source": [
    "print(s)"
   ]
  },
  {
   "cell_type": "code",
   "execution_count": 37,
   "metadata": {},
   "outputs": [
    {
     "name": "stdout",
     "output_type": "stream",
     "text": [
      "True\n"
     ]
    }
   ],
   "source": [
    "### is lower()--->string.islower()\n",
    "print(s.islower())"
   ]
  },
  {
   "cell_type": "code",
   "execution_count": 38,
   "metadata": {},
   "outputs": [
    {
     "name": "stdout",
     "output_type": "stream",
     "text": [
      "False\n"
     ]
    }
   ],
   "source": [
    "### is upper()--->string.isupper()\n",
    "print(s.isupper())"
   ]
  },
  {
   "cell_type": "code",
   "execution_count": 39,
   "metadata": {},
   "outputs": [
    {
     "name": "stdout",
     "output_type": "stream",
     "text": [
      "PYTHON WORKSHOP\n"
     ]
    }
   ],
   "source": [
    "#### upper()-->string.upper()\n",
    "print(s.upper())"
   ]
  },
  {
   "cell_type": "code",
   "execution_count": 40,
   "metadata": {},
   "outputs": [
    {
     "name": "stdout",
     "output_type": "stream",
     "text": [
      "python workshop\n"
     ]
    }
   ],
   "source": [
    "#### lower()--->string.lower()\n",
    "print(s.lower())"
   ]
  },
  {
   "cell_type": "code",
   "execution_count": 41,
   "metadata": {},
   "outputs": [
    {
     "name": "stdout",
     "output_type": "stream",
     "text": [
      "python\n"
     ]
    }
   ],
   "source": [
    "p=\"PythOn\"\n",
    "print(p.lower())"
   ]
  },
  {
   "cell_type": "code",
   "execution_count": 42,
   "metadata": {},
   "outputs": [
    {
     "name": "stdout",
     "output_type": "stream",
     "text": [
      "PYTHON\n"
     ]
    }
   ],
   "source": [
    "p=\"PythOn\"\n",
    "print(p.upper())"
   ]
  },
  {
   "cell_type": "code",
   "execution_count": 51,
   "metadata": {},
   "outputs": [
    {
     "name": "stdout",
     "output_type": "stream",
     "text": [
      "python workshop\n",
      "5\n",
      "0\n",
      "6\n",
      "11\n",
      "14\n",
      "13\n"
     ]
    }
   ],
   "source": [
    "### index--->string.index('character')\n",
    "print(s)\n",
    "print(s.index('n'))\n",
    "print(s.index('p'))\n",
    "print(s.index(' '))\n",
    "print(s.index('s'))\n",
    "print(s.rindex('p'))\n",
    "print(s.rindex('o'))\n"
   ]
  },
  {
   "cell_type": "code",
   "execution_count": 52,
   "metadata": {},
   "outputs": [
    {
     "name": "stdout",
     "output_type": "stream",
     "text": [
      "Python workshop\n"
     ]
    }
   ],
   "source": [
    "### capitalize()--->string.capitalize()\n",
    "print(s.capitalize())"
   ]
  },
  {
   "cell_type": "code",
   "execution_count": 54,
   "metadata": {},
   "outputs": [
    {
     "name": "stdout",
     "output_type": "stream",
     "text": [
      "0\n",
      "5\n"
     ]
    }
   ],
   "source": [
    "### find()\n",
    "print(s.find('p'))\n",
    "print(s.find('n'))"
   ]
  },
  {
   "cell_type": "code",
   "execution_count": 55,
   "metadata": {},
   "outputs": [
    {
     "name": "stdout",
     "output_type": "stream",
     "text": [
      "False\n"
     ]
    }
   ],
   "source": [
    "### isalpha()--->string.isalpha()\n",
    "print(s.isalpha())"
   ]
  },
  {
   "cell_type": "code",
   "execution_count": 56,
   "metadata": {},
   "outputs": [
    {
     "name": "stdout",
     "output_type": "stream",
     "text": [
      "False\n"
     ]
    }
   ],
   "source": [
    "### isalnum()--->string.isalnum()\n",
    "print(s.isalnum())"
   ]
  },
  {
   "cell_type": "code",
   "execution_count": 59,
   "metadata": {},
   "outputs": [
    {
     "name": "stdout",
     "output_type": "stream",
     "text": [
      "True\n"
     ]
    }
   ],
   "source": [
    "g=\"python123\"\n",
    "print(g.isalnum())"
   ]
  },
  {
   "cell_type": "code",
   "execution_count": 60,
   "metadata": {},
   "outputs": [
    {
     "name": "stdout",
     "output_type": "stream",
     "text": [
      "False\n"
     ]
    }
   ],
   "source": [
    "### is digit()\n",
    "print(s.isdigit())"
   ]
  },
  {
   "cell_type": "code",
   "execution_count": 61,
   "metadata": {},
   "outputs": [
    {
     "name": "stdout",
     "output_type": "stream",
     "text": [
      "True\n"
     ]
    }
   ],
   "source": [
    "g=\"123\"\n",
    "print(g.isdigit())"
   ]
  },
  {
   "cell_type": "code",
   "execution_count": 63,
   "metadata": {},
   "outputs": [
    {
     "name": "stdout",
     "output_type": "stream",
     "text": [
      "python workshop\n",
      "pythln wlrkshlp\n"
     ]
    }
   ],
   "source": [
    "## replace()--->string.replace('','')\n",
    "print(s)\n",
    "print(s.replace('o','l'))"
   ]
  },
  {
   "cell_type": "code",
   "execution_count": 65,
   "metadata": {},
   "outputs": [
    {
     "name": "stdout",
     "output_type": "stream",
     "text": [
      "python workshop\n",
      "Python Workshop\n"
     ]
    }
   ],
   "source": [
    "#### title()--->string.title()\n",
    "print(s)\n",
    "print(s.title())"
   ]
  },
  {
   "cell_type": "code",
   "execution_count": 66,
   "metadata": {},
   "outputs": [
    {
     "name": "stdout",
     "output_type": "stream",
     "text": [
      "False\n"
     ]
    }
   ],
   "source": [
    "### istitle()\n",
    "print(s.istitle())"
   ]
  },
  {
   "cell_type": "code",
   "execution_count": 69,
   "metadata": {},
   "outputs": [
    {
     "name": "stdout",
     "output_type": "stream",
     "text": [
      "['pyth', 'n w', 'rksh', 'p']\n",
      "['python', 'workshop']\n"
     ]
    }
   ],
   "source": [
    "## split()\n",
    "print(s.split('o'))\n",
    "print(s.split())"
   ]
  },
  {
   "cell_type": "code",
   "execution_count": 70,
   "metadata": {},
   "outputs": [
    {
     "name": "stdout",
     "output_type": "stream",
     "text": [
      "PYTHON WORKSHOP\n"
     ]
    }
   ],
   "source": [
    "#### swapcase()\n",
    "print(s.swapcase())"
   ]
  },
  {
   "cell_type": "code",
   "execution_count": 74,
   "metadata": {},
   "outputs": [
    {
     "name": "stdout",
     "output_type": "stream",
     "text": [
      "python workshop\n",
      "15\n",
      "000000000000000python workshop\n"
     ]
    }
   ],
   "source": [
    "### zfill()--->zero filling\n",
    "print(s)\n",
    "print(len(s))\n",
    "print(s.zfill(30))"
   ]
  },
  {
   "cell_type": "code",
   "execution_count": 77,
   "metadata": {},
   "outputs": [
    {
     "name": "stdout",
     "output_type": "stream",
     "text": [
      "Enter your year1998\n",
      "2000 2004 2008 2012 2016 2020 "
     ]
    }
   ],
   "source": [
    "#### leap\n",
    "y=int(input(\"Enter your year\"))\n",
    "def IsLeap(y):\n",
    "    if y%400==0 or (y%4==0 and y%100!=0):\n",
    "        return True\n",
    "    return False\n",
    "    \n",
    "    \n",
    "IsLeap(y)\n",
    "\n"
   ]
  },
  {
   "cell_type": "code",
   "execution_count": 79,
   "metadata": {},
   "outputs": [
    {
     "name": "stdout",
     "output_type": "stream",
     "text": [
      "enter start year1990\n",
      "enter end year2022\n",
      "1992 1996 2000 2004 2008 2012 2016 2020 "
     ]
    }
   ],
   "source": [
    "start=int(input(\"enter start year\"))\n",
    "end=int(input(\"enter end year\"))\n",
    "def LeapRange(start,end):\n",
    "    for i in range(start,end+1):\n",
    "        if IsLeap(i):\n",
    "            print(i,end=\" \")\n",
    "    return \n",
    "    \n",
    "    \n",
    "    \n",
    "LeapRange(start,end)\n"
   ]
  },
  {
   "cell_type": "code",
   "execution_count": 85,
   "metadata": {},
   "outputs": [
    {
     "name": "stdout",
     "output_type": "stream",
     "text": [
      "Enter your number5\n",
      "prime\n"
     ]
    }
   ],
   "source": [
    "### prime no\n",
    "n=int(input(\"Enter your number\"))\n",
    "def prime(n):\n",
    "    c=0\n",
    "    for i in range(1,n+1):\n",
    "        if (n%i==0):  ### 5%1==0,5%2==1,5%3==2...5%5==0\n",
    "            c=c+1\n",
    "            \n",
    "    if (c==2):\n",
    "        print(\"prime\")\n",
    "        \n",
    "    else:\n",
    "        print(\"not a prime\")\n",
    "    \n",
    "    \n",
    "prime(n)"
   ]
  },
  {
   "cell_type": "code",
   "execution_count": 90,
   "metadata": {},
   "outputs": [
    {
     "name": "stdout",
     "output_type": "stream",
     "text": [
      "Enter your number28\n",
      "perfect\n"
     ]
    }
   ],
   "source": [
    "#####\n",
    "n=int(input(\"Enter your number\"))\n",
    "def perfect(n):\n",
    "    s=0\n",
    "    for i in range(1,n):\n",
    "        if (n%i==0):  ###6%1==0,6%2==0,6%3==0,6%4==2,6%5==1\n",
    "            s=s+i     ##s=0+1=1,s=1+2=3,s=3+3=6\n",
    "            \n",
    "    if (s==n):\n",
    "        print(\"perfect\")\n",
    "        \n",
    "    else:\n",
    "        print(\"not a perfect\")\n",
    "    \n",
    "    \n",
    "perfect(n)"
   ]
  },
  {
   "cell_type": "code",
   "execution_count": 88,
   "metadata": {},
   "outputs": [
    {
     "data": {
      "text/plain": [
       "1"
      ]
     },
     "execution_count": 88,
     "metadata": {},
     "output_type": "execute_result"
    }
   ],
   "source": [
    "###\n",
    "    - palindrome of a string--->mom-->mom\n",
    "    - prime nos range\n",
    "    - perfect no range"
   ]
  },
  {
   "cell_type": "code",
   "execution_count": null,
   "metadata": {},
   "outputs": [],
   "source": [
    "1,2,4,7,14,"
   ]
  }
 ],
 "metadata": {
  "kernelspec": {
   "display_name": "Python 3",
   "language": "python",
   "name": "python3"
  },
  "language_info": {
   "codemirror_mode": {
    "name": "ipython",
    "version": 3
   },
   "file_extension": ".py",
   "mimetype": "text/x-python",
   "name": "python",
   "nbconvert_exporter": "python",
   "pygments_lexer": "ipython3",
   "version": "3.7.3"
  }
 },
 "nbformat": 4,
 "nbformat_minor": 2
}
