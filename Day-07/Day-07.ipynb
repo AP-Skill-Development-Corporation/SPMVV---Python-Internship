{
 "cells": [
  {
   "cell_type": "markdown",
   "id": "d2279607",
   "metadata": {},
   "source": [
    "# elif:\n",
    "    () => optional\n",
    "    Syntax:\n",
    "       if condition-1:\n",
    "           //stmnt-1\n",
    "       elif condition-2:\n",
    "           //stmnt-2\n",
    "           |     |\n",
    "       elif condition-(n-2):\n",
    "           //stmnt-(n-2)\n",
    "       else:\n",
    "           //stmnt-n"
   ]
  },
  {
   "cell_type": "code",
   "execution_count": 2,
   "id": "02ef8296",
   "metadata": {},
   "outputs": [
    {
     "name": "stdout",
     "output_type": "stream",
     "text": [
      "enter a value5\n",
      "enter b value6\n",
      "enter c value7\n",
      "7 is larger than 5 and 6\n"
     ]
    }
   ],
   "source": [
    "a,b,c=int(input(\"enter a value\")),int(input(\"enter b value\")),int(input(\"enter c value\"))\n",
    "if (a>b and a>c):\n",
    "    print(f\"{a} is larger than {b} and {c}\")\n",
    "elif (b>a and b>c):\n",
    "    print(f\"{b} is larger than {a} and {c}\")\n",
    "else:\n",
    "    print(f\"{c} is larger than {a} and {b}\")"
   ]
  },
  {
   "cell_type": "code",
   "execution_count": 7,
   "id": "c6f3177e",
   "metadata": {},
   "outputs": [
    {
     "name": "stdout",
     "output_type": "stream",
     "text": [
      "enter a number: 45\n",
      "45 is divsible by 5\n"
     ]
    }
   ],
   "source": [
    "b = int(input(\"enter a number: \"))\n",
    "if b%2==0 and b%5==0:\n",
    "    print(f\"{b} is disible by 2 and 5\")\n",
    "elif b%5==0:\n",
    "    print(f\"{b} is divsible by 5\")\n",
    "elif b%2==0:\n",
    "    print(f\"{b} is Even\")\n",
    "else:\n",
    "    print(f\"{b} is odd\")"
   ]
  },
  {
   "cell_type": "markdown",
   "id": "c07d8894",
   "metadata": {},
   "source": [
    "# Loops or Iterations or Reptitions:\n",
    "    - To execute a statement for n number of times\n",
    "    - for => for known ranges\n",
    "    - while => for known and unknown ranges"
   ]
  },
  {
   "cell_type": "markdown",
   "id": "992c49fe",
   "metadata": {},
   "source": [
    "# for:\n",
    "    Syntax:\n",
    "    for variablename in range(start,stop,step):\n",
    "        //stmnts\n",
    "                or\n",
    "    for variablename in iterator:\n",
    "        //stmnts\n",
    "    \n",
    "    Iterators: List,Tuple,Set,Dictionary and String"
   ]
  },
  {
   "cell_type": "markdown",
   "id": "a26e9e64",
   "metadata": {},
   "source": [
    "# range:\n",
    "    - range(stop)\n",
    "        ex: range(3) => 0 1 2 \n",
    "        - By default it starts with 0\n",
    "        - It increments with \"1\"\n",
    "        - It ends with n-1\n",
    "    - range(start,stop) \n",
    "        ex: range(4,10) => 4 5 6 7 8 9\n",
    "        - Exactly it start with start value\n",
    "        - It increments with \"1\"\n",
    "        - It ends with n-1\n",
    "    - range(start,stop,step)\n",
    "        ex: range(1,10,3) => 1 4 7\n",
    "        - Exactly it starts with start value\n",
    "        - It increments/decremnets with step value\n",
    "        - It ends with "
   ]
  },
  {
   "cell_type": "code",
   "execution_count": 16,
   "id": "3b9f9df3",
   "metadata": {},
   "outputs": [
    {
     "name": "stdout",
     "output_type": "stream",
     "text": [
      "enter a value: 5\n",
      "1 2 3 4 5 "
     ]
    }
   ],
   "source": [
    "x=int(input(\"enter a value: \"))\n",
    "for b in range(x):\n",
    "    print(b+1,end=\" \")"
   ]
  },
  {
   "cell_type": "code",
   "execution_count": 18,
   "id": "d12577b6",
   "metadata": {},
   "outputs": [
    {
     "name": "stdout",
     "output_type": "stream",
     "text": [
      "enter a value10\n",
      "10,9,8,7,6,5,4,3,2,1,"
     ]
    }
   ],
   "source": [
    "x=int(input(\"enter a value\"))\n",
    "for b in range(x):\n",
    "    print(x-b,end=\",\")\n"
   ]
  },
  {
   "cell_type": "code",
   "execution_count": 7,
   "id": "3d55ce12",
   "metadata": {},
   "outputs": [
    {
     "name": "stdout",
     "output_type": "stream",
     "text": [
      "Enter a value: 10\n",
      "Even numbers are:  10 8 6 4 2 0 "
     ]
    }
   ],
   "source": [
    "x=int(input(\"Enter a value: \"))\n",
    "print(\"Even numbers are: \",end=\" \")\n",
    "for b in range(x+1):\n",
    "    if (x-b)%2==0:\n",
    "        print(x-b,end=\" \")"
   ]
  },
  {
   "cell_type": "code",
   "execution_count": null,
   "id": "46ba4993",
   "metadata": {},
   "outputs": [],
   "source": []
  },
  {
   "cell_type": "code",
   "execution_count": null,
   "id": "73921f53",
   "metadata": {},
   "outputs": [],
   "source": []
  }
 ],
 "metadata": {
  "kernelspec": {
   "display_name": "Python 3",
   "language": "python",
   "name": "python3"
  },
  "language_info": {
   "codemirror_mode": {
    "name": "ipython",
    "version": 3
   },
   "file_extension": ".py",
   "mimetype": "text/x-python",
   "name": "python",
   "nbconvert_exporter": "python",
   "pygments_lexer": "ipython3",
   "version": "3.7.5"
  }
 },
 "nbformat": 4,
 "nbformat_minor": 5
}
