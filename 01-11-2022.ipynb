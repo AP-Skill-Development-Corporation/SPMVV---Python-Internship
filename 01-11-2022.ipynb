{
 "cells": [
  {
   "cell_type": "markdown",
   "metadata": {},
   "source": [
    "#### problem solving on ds:"
   ]
  },
  {
   "cell_type": "code",
   "execution_count": 8,
   "metadata": {
    "collapsed": true
   },
   "outputs": [
    {
     "name": "stdout",
     "output_type": "stream",
     "text": [
      "Enter list of elements!..90 89 90 56 34 67 90 89\n",
      "['90', '89', '90', '56', '34', '67', '90', '89']\n",
      "[90, 89, 90, 56, 34, 67, 90, 89]\n",
      "[90, 89, 56, 34, 67]\n"
     ]
    }
   ],
   "source": [
    "### unique elements printing by using list:\n",
    "L1=input(\"Enter list of elements!..\").split()\n",
    "print(L1)\n",
    "L2=[]\n",
    "for i in L1:\n",
    "    L2.append(int(i))\n",
    "print(L2)\n",
    "\n",
    "##### remove duplicates from list\n",
    "unique=[]\n",
    "for i in L2:\n",
    "    if i not in unique:\n",
    "        unique.append(i)\n",
    "        \n",
    "print(unique)\n",
    "        \n",
    "    \n",
    "    "
   ]
  },
  {
   "cell_type": "code",
   "execution_count": 13,
   "metadata": {},
   "outputs": [
    {
     "name": "stdout",
     "output_type": "stream",
     "text": [
      "Enter your elements here!89 90 25 67\n",
      "['89', '90', '25', '67']\n",
      "Enter your x value4\n",
      "enter your y value5\n",
      "[89, 90, 25, 67]\n"
     ]
    }
   ],
   "source": [
    "#### read a list elements and print the number divisible 4 but not divisble by 5\n",
    "n=input(\"Enter your elements here!\").split()\n",
    "print(n)\n",
    "x=int(input(\"Enter your x value\"))\n",
    "y=int(input(\"enter your y value\"))\n",
    "li=[]\n",
    "for i in n:\n",
    "    li.append(int(i))\n",
    "print(li)\n",
    "\n",
    "#### divisible by 4 but not divisble by 5\n",
    "for i in li:\n",
    "    if i%x==0 and i%y!=0:\n",
    "        print(i,end=\" \")\n",
    "\n",
    "    "
   ]
  },
  {
   "cell_type": "code",
   "execution_count": 18,
   "metadata": {
    "collapsed": true
   },
   "outputs": [
    {
     "name": "stdout",
     "output_type": "stream",
     "text": [
      "Enter your elements here!...90 10 25\n",
      "['90', '10', '25']\n",
      "[90, 10, 25]\n",
      "Even nos sum is: 100\n",
      "Odd nos sum is: 25\n"
     ]
    }
   ],
   "source": [
    "### read list of elements and print even numbers sum and odd numbers sum...\n",
    "\n",
    "L1=input(\"Enter your elements here!...\").split()\n",
    "print(L1)\n",
    "even_sum=0\n",
    "odd_sum=0\n",
    "L2=[]\n",
    "for i in L1:\n",
    "    L2.append(int(i))\n",
    "    \n",
    "print(L2)\n",
    "\n",
    "for i in L2:\n",
    "    if i%2==0:\n",
    "        even_sum=even_sum+i\n",
    "    else:\n",
    "        odd_sum=odd_sum+i\n",
    "        \n",
    "print(\"Even nos sum is:\",even_sum)\n",
    "print(\"Odd nos sum is:\",odd_sum)\n",
    "        "
   ]
  },
  {
   "cell_type": "markdown",
   "metadata": {},
   "source": [
    "### linear search by using list\n",
    "[90,89,90,67,78,45]\n",
    "\n",
    "-->user->90--->found"
   ]
  },
  {
   "cell_type": "code",
   "execution_count": null,
   "metadata": {},
   "outputs": [],
   "source": [
    "#### i/p:('a','a','c','b','d','d','e')\n",
    "### ['a','b']\n",
    "### to print no of occurance of all items of the list in tuple"
   ]
  },
  {
   "cell_type": "code",
   "execution_count": 22,
   "metadata": {},
   "outputs": [
    {
     "name": "stdout",
     "output_type": "stream",
     "text": [
      "4\n"
     ]
    }
   ],
   "source": [
    "t1=('a','a','c','b','d','d','e')\n",
    "l1=['a','d']\n",
    "s=0\n",
    "for i in l1:\n",
    "    s=s+t1.count(i)\n",
    "print(s)"
   ]
  },
  {
   "cell_type": "markdown",
   "metadata": {},
   "source": [
    "### write a program to generate and print a dict that contains a number in the formate of x,x*x\n",
    "#### i/p:5(1,2,3,4,5)\n",
    "#### o/p:{1:1,2:4,3:9...5:25}"
   ]
  },
  {
   "cell_type": "code",
   "execution_count": 25,
   "metadata": {},
   "outputs": [
    {
     "name": "stdout",
     "output_type": "stream",
     "text": [
      "enter your number10\n",
      "{1: 1, 2: 4, 3: 9, 4: 16, 5: 25, 6: 36, 7: 49, 8: 64, 9: 81, 10: 100}\n"
     ]
    }
   ],
   "source": [
    "n = int(input(\"enter your number\"))\n",
    "d={}\n",
    "for i in range(1,n+1):\n",
    "    d[i]=i*i\n",
    "print(d)\n",
    "    "
   ]
  },
  {
   "cell_type": "code",
   "execution_count": 29,
   "metadata": {},
   "outputs": [
    {
     "name": "stdout",
     "output_type": "stream",
     "text": [
      "total sum is 100\n"
     ]
    }
   ],
   "source": [
    "### sum of items in dict\n",
    "d={'a':10,'b':20,'c':30,'d':40}\n",
    "s=0\n",
    "for i in d.values():\n",
    "    s=s+i\n",
    "print(\"total sum is\",s)\n",
    "    "
   ]
  },
  {
   "cell_type": "code",
   "execution_count": 30,
   "metadata": {},
   "outputs": [
    {
     "name": "stdout",
     "output_type": "stream",
     "text": [
      "{'a': 10, 'b': 20, 'c': 30, 'd': 40, 'name': 'siri', 'roll': 890, 'branch': 'eee'}\n"
     ]
    }
   ],
   "source": [
    "#### merge two dictionaries\n",
    "d1={'a':10,'b':20,'c':30,'d':40}\n",
    "d2={'name':'siri','roll':890,'branch':'eee'}\n",
    "d1.update(d2)\n",
    "print(d1)"
   ]
  },
  {
   "cell_type": "code",
   "execution_count": 32,
   "metadata": {
    "collapsed": true
   },
   "outputs": [
    {
     "name": "stdout",
     "output_type": "stream",
     "text": [
      "Enter your elements here!...90 67 -5 -4 -2 97\n",
      "['90', '67', '-5', '-4', '-2', '97']\n",
      "[90, 67, -5, -4, -2, 97]\n",
      " no of +ve no are 3\n",
      " no of -ve no are 3\n"
     ]
    }
   ],
   "source": [
    "### to print no of +ve no and no of -ve nos\n",
    "\n",
    "L1=input(\"Enter your elements here!...\").split()\n",
    "print(L1)\n",
    "L2=[]\n",
    "for i in L1:\n",
    "    L2.append(int(i))\n",
    "    \n",
    "print(L2)\n",
    "\n",
    "p=0\n",
    "n=0\n",
    "for i in L2:\n",
    "    if i>0:\n",
    "        p=p+1\n",
    "    else:\n",
    "        n=n+1\n",
    "        \n",
    "print(\" no of +ve no are\",p)\n",
    "print(\" no of -ve no are\",n)\n"
   ]
  },
  {
   "cell_type": "markdown",
   "metadata": {},
   "source": [
    "### tasks\n",
    "#### sum of elements in  given list\n",
    "#### linear search "
   ]
  },
  {
   "cell_type": "code",
   "execution_count": null,
   "metadata": {},
   "outputs": [],
   "source": []
  }
 ],
 "metadata": {
  "kernelspec": {
   "display_name": "Python 3",
   "language": "python",
   "name": "python3"
  },
  "language_info": {
   "codemirror_mode": {
    "name": "ipython",
    "version": 3
   },
   "file_extension": ".py",
   "mimetype": "text/x-python",
   "name": "python",
   "nbconvert_exporter": "python",
   "pygments_lexer": "ipython3",
   "version": "3.7.3"
  }
 },
 "nbformat": 4,
 "nbformat_minor": 2
}
