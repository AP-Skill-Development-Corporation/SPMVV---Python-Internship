{
 "cells": [
  {
   "cell_type": "code",
   "execution_count": 4,
   "id": "a6754d96",
   "metadata": {},
   "outputs": [
    {
     "name": "stdout",
     "output_type": "stream",
     "text": [
      "Enter the value: 12345\n"
     ]
    },
    {
     "ename": "NameError",
     "evalue": "name 'a' is not defined",
     "output_type": "error",
     "traceback": [
      "\u001b[1;31m---------------------------------------------------------------------\u001b[0m",
      "\u001b[1;31mNameError\u001b[0m                           Traceback (most recent call last)",
      "\u001b[1;32m<ipython-input-4-d1022603f954>\u001b[0m in \u001b[0;36m<module>\u001b[1;34m\u001b[0m\n\u001b[0;32m      1\u001b[0m \u001b[0mn\u001b[0m\u001b[1;33m=\u001b[0m\u001b[0mint\u001b[0m\u001b[1;33m(\u001b[0m\u001b[0minput\u001b[0m\u001b[1;33m(\u001b[0m\u001b[1;34m\"Enter the value: \"\u001b[0m\u001b[1;33m)\u001b[0m\u001b[1;33m)\u001b[0m\u001b[1;33m\u001b[0m\u001b[1;33m\u001b[0m\u001b[0m\n\u001b[1;32m----> 2\u001b[1;33m \u001b[1;32mwhile\u001b[0m \u001b[0ma\u001b[0m \u001b[1;32min\u001b[0m \u001b[0mrange\u001b[0m\u001b[1;33m(\u001b[0m\u001b[1;33m)\u001b[0m\u001b[1;33m:\u001b[0m\u001b[1;33m\u001b[0m\u001b[1;33m\u001b[0m\u001b[0m\n\u001b[0m\u001b[0;32m      3\u001b[0m     \u001b[0mprint\u001b[0m\u001b[1;33m(\u001b[0m\u001b[0mn\u001b[0m\u001b[1;33m-\u001b[0m\u001b[0ma\u001b[0m\u001b[1;33m,\u001b[0m\u001b[0mend\u001b[0m\u001b[1;33m=\u001b[0m\u001b[1;34m\" \"\u001b[0m\u001b[1;33m)\u001b[0m\u001b[1;33m\u001b[0m\u001b[1;33m\u001b[0m\u001b[0m\n\u001b[0;32m      4\u001b[0m     \u001b[1;32mif\u001b[0m \u001b[0mn\u001b[0m\u001b[1;33m%\u001b[0m\u001b[1;36m2\u001b[0m\u001b[1;33m!=\u001b[0m\u001b[1;36m0\u001b[0m\u001b[1;33m:\u001b[0m\u001b[1;33m\u001b[0m\u001b[1;33m\u001b[0m\u001b[0m\n\u001b[0;32m      5\u001b[0m         \u001b[0mprint\u001b[0m\u001b[1;33m(\u001b[0m\u001b[1;34mf\"Odd numbers are:{n}\"\u001b[0m\u001b[1;33m)\u001b[0m\u001b[1;33m\u001b[0m\u001b[1;33m\u001b[0m\u001b[0m\n",
      "\u001b[1;31mNameError\u001b[0m: name 'a' is not defined"
     ]
    }
   ],
   "source": [
    "n=int(input(\"Enter the value:\")\n",
    "      if n%2!=0:\n",
    "        print(f\"Odd numbers are:{n}\")"
   ]
  },
  {
   "cell_type": "code",
   "execution_count": 4,
   "id": "b44a2180",
   "metadata": {},
   "outputs": [
    {
     "name": "stdout",
     "output_type": "stream",
     "text": [
      "Enter the value: 355\n",
      "Odd numbers are:  25 25 15 "
     ]
    }
   ],
   "source": [
    "n=int(input(\"Enter the value: \"))\n",
    "print(\"Odd numbers are: \",end=\" \")\n",
    "while n!=0:\n",
    "    a=n%10\n",
    "    if a%2!=0:\n",
    "        print(a*5,end=\" \")\n",
    "    n//=10"
   ]
  },
  {
   "cell_type": "markdown",
   "id": "f3e4d39d",
   "metadata": {},
   "source": [
    "## Required or positional argument"
   ]
  },
  {
   "cell_type": "code",
   "execution_count": 7,
   "id": "c4a136ec",
   "metadata": {},
   "outputs": [
    {
     "name": "stdout",
     "output_type": "stream",
     "text": [
      "Enter your name: yamini\n",
      "Enter your year: 2\n",
      "Enter your branch: MECH\n"
     ]
    },
    {
     "ename": "TypeError",
     "evalue": "stdntdata() missing 1 required positional argument: 'p'",
     "output_type": "error",
     "traceback": [
      "\u001b[1;31m---------------------------------------------------------------------\u001b[0m",
      "\u001b[1;31mTypeError\u001b[0m                           Traceback (most recent call last)",
      "\u001b[1;32m<ipython-input-7-c648e6e0c60f>\u001b[0m in \u001b[0;36m<module>\u001b[1;34m\u001b[0m\n\u001b[0;32m      6\u001b[0m \u001b[0myear\u001b[0m \u001b[1;33m=\u001b[0m \u001b[0minput\u001b[0m\u001b[1;33m(\u001b[0m\u001b[1;34m\"Enter your year: \"\u001b[0m\u001b[1;33m)\u001b[0m\u001b[1;33m\u001b[0m\u001b[1;33m\u001b[0m\u001b[0m\n\u001b[0;32m      7\u001b[0m \u001b[0mbranch\u001b[0m \u001b[1;33m=\u001b[0m \u001b[0minput\u001b[0m\u001b[1;33m(\u001b[0m\u001b[1;34m\"Enter your branch: \"\u001b[0m\u001b[1;33m)\u001b[0m\u001b[1;33m\u001b[0m\u001b[1;33m\u001b[0m\u001b[0m\n\u001b[1;32m----> 8\u001b[1;33m \u001b[0mstdntdata\u001b[0m\u001b[1;33m(\u001b[0m\u001b[0mname\u001b[0m\u001b[1;33m,\u001b[0m\u001b[0myear\u001b[0m\u001b[1;33m,\u001b[0m\u001b[0mbranch\u001b[0m\u001b[1;33m)\u001b[0m\u001b[1;33m\u001b[0m\u001b[1;33m\u001b[0m\u001b[0m\n\u001b[0m",
      "\u001b[1;31mTypeError\u001b[0m: stdntdata() missing 1 required positional argument: 'p'"
     ]
    }
   ],
   "source": [
    "def stdntdata(n,y,b,p):\n",
    "    print(f\"Name: {n}\\nYear: {y}\\nBranch: {b}\")\n",
    "    return\n",
    "\n",
    "name = input(\"Enter your name: \")\n",
    "year = input(\"Enter your year: \")\n",
    "branch = input(\"Enter your branch: \")\n",
    "stdntdata(name,year,branch)"
   ]
  },
  {
   "cell_type": "code",
   "execution_count": 8,
   "id": "65306b5b",
   "metadata": {},
   "outputs": [
    {
     "name": "stdout",
     "output_type": "stream",
     "text": [
      "Enter your name: Prasanna\n",
      "Enter your year: 1\n",
      "Enter your branch: CSE\n"
     ]
    },
    {
     "ename": "TypeError",
     "evalue": "stdntdata() takes 2 positional arguments but 3 were given",
     "output_type": "error",
     "traceback": [
      "\u001b[1;31m---------------------------------------------------------------------\u001b[0m",
      "\u001b[1;31mTypeError\u001b[0m                           Traceback (most recent call last)",
      "\u001b[1;32m<ipython-input-8-b63c65712453>\u001b[0m in \u001b[0;36m<module>\u001b[1;34m\u001b[0m\n\u001b[0;32m      6\u001b[0m \u001b[0myear\u001b[0m \u001b[1;33m=\u001b[0m \u001b[0minput\u001b[0m\u001b[1;33m(\u001b[0m\u001b[1;34m\"Enter your year: \"\u001b[0m\u001b[1;33m)\u001b[0m\u001b[1;33m\u001b[0m\u001b[1;33m\u001b[0m\u001b[0m\n\u001b[0;32m      7\u001b[0m \u001b[0mbranch\u001b[0m \u001b[1;33m=\u001b[0m \u001b[0minput\u001b[0m\u001b[1;33m(\u001b[0m\u001b[1;34m\"Enter your branch: \"\u001b[0m\u001b[1;33m)\u001b[0m\u001b[1;33m\u001b[0m\u001b[1;33m\u001b[0m\u001b[0m\n\u001b[1;32m----> 8\u001b[1;33m \u001b[0mstdntdata\u001b[0m\u001b[1;33m(\u001b[0m\u001b[0mname\u001b[0m\u001b[1;33m,\u001b[0m\u001b[0myear\u001b[0m\u001b[1;33m,\u001b[0m\u001b[0mbranch\u001b[0m\u001b[1;33m)\u001b[0m\u001b[1;33m\u001b[0m\u001b[1;33m\u001b[0m\u001b[0m\n\u001b[0m",
      "\u001b[1;31mTypeError\u001b[0m: stdntdata() takes 2 positional arguments but 3 were given"
     ]
    }
   ],
   "source": [
    "def stdntdata(n,y):\n",
    "    print(f\"Name: {n}\\nYear: {y}\\nBranch: {b}\")\n",
    "    return\n",
    "\n",
    "name = input(\"Enter your name: \")\n",
    "year = input(\"Enter your year: \")\n",
    "branch = input(\"Enter your branch: \")\n",
    "stdntdata(name,year,branch)"
   ]
  },
  {
   "cell_type": "code",
   "execution_count": 9,
   "id": "a7d21f0e",
   "metadata": {},
   "outputs": [
    {
     "name": "stdout",
     "output_type": "stream",
     "text": [
      "Enter your name: somu\n",
      "Enter your year: 3\n",
      "Enter your branch: EEE\n",
      "Name: somu\n",
      "Year: 3\n",
      "Branch: EEE\n"
     ]
    }
   ],
   "source": [
    "def stdntdata(n,y,b):\n",
    "    print(f\"Name: {n}\\nYear: {y}\\nBranch: {b}\")\n",
    "    return\n",
    "\n",
    "name = input(\"Enter your name: \")\n",
    "year = input(\"Enter your year: \")\n",
    "branch = input(\"Enter your branch: \")\n",
    "stdntdata(name,year,branch)"
   ]
  },
  {
   "cell_type": "markdown",
   "id": "d3bde9d6",
   "metadata": {},
   "source": [
    "# Default argument:"
   ]
  },
  {
   "cell_type": "code",
   "execution_count": 10,
   "id": "d970a6d7",
   "metadata": {},
   "outputs": [
    {
     "name": "stdout",
     "output_type": "stream",
     "text": [
      "Enter emploeeid: e01\n",
      "Enter emplpoyeename: sarath\n",
      "Employee id: e01\n",
      "Name: sarath\n",
      "Salary: 42000\n"
     ]
    }
   ],
   "source": [
    "def employeedata(i,n,s=42000):\n",
    "    print(f\"Employee id: {i}\\nName: {n}\\nSalary: {s}\")\n",
    "    return\n",
    "\n",
    "eid = input(\"Enter employeeid: \")\n",
    "ename = input(\"Enter employeename: \")\n",
    "employeedata(eid,ename)"
   ]
  },
  {
   "cell_type": "code",
   "execution_count": 11,
   "id": "d87b879d",
   "metadata": {},
   "outputs": [
    {
     "ename": "SyntaxError",
     "evalue": "non-default argument follows default argument (<ipython-input-11-4cda8c9b5052>, line 1)",
     "output_type": "error",
     "traceback": [
      "\u001b[1;36m  File \u001b[1;32m\"<ipython-input-11-4cda8c9b5052>\"\u001b[1;36m, line \u001b[1;32m1\u001b[0m\n\u001b[1;33m    def employeedata(i,n='lalitha',s):\u001b[0m\n\u001b[1;37m                    ^\u001b[0m\n\u001b[1;31mSyntaxError\u001b[0m\u001b[1;31m:\u001b[0m non-default argument follows default argument\n"
     ]
    }
   ],
   "source": [
    "def employeedata(i,n='lalitha',s):\n",
    "    print(f\"Employee id: {i}\\nName: {n}\\nSalary: {s}\")\n",
    "    return\n",
    "\n",
    "eid = input(\"Enter employeeid: \")\n",
    "ename = input(\"Enter employeename: \")\n",
    "employeedata(eid,ename)"
   ]
  },
  {
   "cell_type": "code",
   "execution_count": 12,
   "id": "cde42ea0",
   "metadata": {},
   "outputs": [
    {
     "name": "stdout",
     "output_type": "stream",
     "text": [
      "Enter employeeid: e0154\n",
      "Employee id: e0154\n",
      "Name: Kiran\n",
      "Salary: 42000\n"
     ]
    }
   ],
   "source": [
    "def employeedata(i,n='Kiran',s=42000):\n",
    "    print(f\"Employee id: {i}\\nName: {n}\\nSalary: {s}\")\n",
    "    return\n",
    "\n",
    "eid = input(\"Enter employeeid: \")\n",
    "# ename = input(\"Enter employeename: \")\n",
    "# employeedata(eid,ename)\n",
    "employeedata(eid)"
   ]
  },
  {
   "cell_type": "code",
   "execution_count": 13,
   "id": "c0fd2e79",
   "metadata": {},
   "outputs": [
    {
     "name": "stdout",
     "output_type": "stream",
     "text": [
      "Enter employeeid: e108\n",
      "Enter employeename: Jhanu\n",
      "Enter employeesalary: 12000\n",
      "Employee id: e108\n",
      "Name: Jhanu\n",
      "Salary: 12000\n"
     ]
    }
   ],
   "source": [
    "def employeedata(i,n,s=42000):\n",
    "    print(f\"Employee id: {i}\\nName: {n}\\nSalary: {s}\")\n",
    "    return\n",
    "\n",
    "eid = input(\"Enter employeeid: \")\n",
    "ename = input(\"Enter employeename: \")\n",
    "esal = input(\"Enter employeesalary: \")\n",
    "employeedata(eid,ename,esal)"
   ]
  },
  {
   "cell_type": "code",
   "execution_count": null,
   "id": "fdcfc68f",
   "metadata": {},
   "outputs": [],
   "source": []
  }
 ],
 "metadata": {
  "kernelspec": {
   "display_name": "Python 3",
   "language": "python",
   "name": "python3"
  },
  "language_info": {
   "codemirror_mode": {
    "name": "ipython",
    "version": 3
   },
   "file_extension": ".py",
   "mimetype": "text/x-python",
   "name": "python",
   "nbconvert_exporter": "python",
   "pygments_lexer": "ipython3",
   "version": "3.7.5"
  }
 },
 "nbformat": 4,
 "nbformat_minor": 5
}
