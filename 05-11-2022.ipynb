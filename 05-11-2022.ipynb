{
 "cells": [
  {
   "cell_type": "code",
   "execution_count": null,
   "metadata": {},
   "outputs": [],
   "source": [
    "### starts with[6,7,8,9]-->^\n",
    "### length-->10---{}\n",
    "### [0-9]--->\n",
    "#### 0-->[] 0 9492363502, +91 9492363502"
   ]
  },
  {
   "cell_type": "code",
   "execution_count": 9,
   "metadata": {
    "scrolled": true
   },
   "outputs": [
    {
     "name": "stdout",
     "output_type": "stream",
     "text": [
      "valid phone number\n"
     ]
    }
   ],
   "source": [
    "import re\n",
    "def phonenum(number):\n",
    "    pattern='^[6-9][0-9]{9}|^[0][6-9][0-9]{9}|^[+][9][1][6-9][0-9]{9}$'\n",
    "    if re.match(pattern,str(number)):\n",
    "        print(\"valid phone number\")\n",
    "    else:\n",
    "        print(\"invalid\")\n",
    "    \n",
    "    \n",
    "    \n",
    "phonenum(\"+918492363502\")"
   ]
  },
  {
   "cell_type": "code",
   "execution_count": null,
   "metadata": {},
   "outputs": [],
   "source": [
    "### ex:srikanya659@gmail.com\n",
    "### srikanta.t@apssdc.in"
   ]
  },
  {
   "cell_type": "code",
   "execution_count": null,
   "metadata": {},
   "outputs": [],
   "source": [
    "srikanya.659@gmail.com\n",
    "pattern='^[a-z][a-z0-9._]{4,14}[@][a-z]{3,10}[.][a-z]{1,5}'"
   ]
  }
 ],
 "metadata": {
  "kernelspec": {
   "display_name": "Python 3",
   "language": "python",
   "name": "python3"
  },
  "language_info": {
   "codemirror_mode": {
    "name": "ipython",
    "version": 3
   },
   "file_extension": ".py",
   "mimetype": "text/x-python",
   "name": "python",
   "nbconvert_exporter": "python",
   "pygments_lexer": "ipython3",
   "version": "3.7.3"
  }
 },
 "nbformat": 4,
 "nbformat_minor": 2
}
