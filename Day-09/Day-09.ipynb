{
 "cells": [
  {
   "cell_type": "code",
   "execution_count": 5,
   "id": "34763c40",
   "metadata": {},
   "outputs": [
    {
     "name": "stdout",
     "output_type": "stream",
     "text": [
      "Enter start range: 10\n",
      "Enter stop range: 20\n",
      "Enter step range: 2\n",
      "10 12 14 16 18 "
     ]
    }
   ],
   "source": [
    "st = int(input(\"Enter start range: \"))\n",
    "sp = int(input(\"Enter stop range: \"))\n",
    "stp = int(input(\"Enter step range: \"))\n",
    "for j in range(st,sp,stp):\n",
    "    print(j,end=\" \")"
   ]
  },
  {
   "cell_type": "code",
   "execution_count": 7,
   "id": "134f2e10",
   "metadata": {},
   "outputs": [
    {
     "name": "stdout",
     "output_type": "stream",
     "text": [
      "4\n",
      "0\n",
      "1\n",
      "4\n",
      "9\n"
     ]
    }
   ],
   "source": [
    "n = int(input())\n",
    "for i in range(n):\n",
    "    print(i*i)"
   ]
  },
  {
   "cell_type": "markdown",
   "id": "495df356",
   "metadata": {},
   "source": [
    "# While:\n",
    "    initialization\n",
    "    while condition:\n",
    "        //stmnts\n",
    "        incr/decr"
   ]
  },
  {
   "cell_type": "code",
   "execution_count": 1,
   "id": "92d51906",
   "metadata": {},
   "outputs": [
    {
     "name": "stdout",
     "output_type": "stream",
     "text": [
      "Enter starting value: 10\n",
      "Enter ending value: 20\n",
      "10 11 12 13 14 15 16 17 18 19 "
     ]
    }
   ],
   "source": [
    "n = int(input(\"Enter starting value: \"))\n",
    "h = int(input(\"Enter ending value: \"))\n",
    "while h!=n:\n",
    "    print(n,end=\" \")\n",
    "    n+=1"
   ]
  },
  {
   "cell_type": "code",
   "execution_count": 2,
   "id": "8c2c3bd4",
   "metadata": {},
   "outputs": [
    {
     "name": "stdout",
     "output_type": "stream",
     "text": [
      "Enter starting value: 10\n",
      "Enter ending value: 20\n",
      "20 19 18 17 16 15 14 13 12 11 "
     ]
    }
   ],
   "source": [
    "n = int(input(\"Enter starting value: \"))\n",
    "h = int(input(\"Enter ending value: \"))\n",
    "while h!=n:\n",
    "    print(h,end=\" \")\n",
    "    h-=1"
   ]
  },
  {
   "cell_type": "code",
   "execution_count": 4,
   "id": "ab47a7a6",
   "metadata": {},
   "outputs": [
    {
     "name": "stdout",
     "output_type": "stream",
     "text": [
      "1.Even\n",
      "2.Odd\n",
      "3.Exit\n",
      "Enter your choice: 3\n"
     ]
    }
   ],
   "source": [
    "while True:\n",
    "    print(\"1.Even\\n2.Odd\\n3.Exit\")\n",
    "    n = int(input(\"Enter your choice: \"))\n",
    "    if n==1:\n",
    "        k = int(input(\"Enter a number: \"))\n",
    "        if k%2==0:\n",
    "            print(f\"{k} Even\")\n",
    "    elif n==2:\n",
    "        m = int(input(\"Enter a number: \"))\n",
    "        if m%2!=0:\n",
    "            print(f\"{m+3} Odd\")\n",
    "    elif n==3:\n",
    "        break\n",
    "    else:\n",
    "        print(\"Enter valid option\")"
   ]
  },
  {
   "cell_type": "markdown",
   "id": "6150f487",
   "metadata": {},
   "source": [
    "# Jumping Statements:\n",
    "    - To control the flow of execution\n",
    "    - break => It exits from a loop\n",
    "    - continue => It skips a value and ends for final value\n",
    "    - pass => It acts like continue but we can implement code in future enhancements\n",
    "    - return => It return single or n number of values but used only in functions"
   ]
  },
  {
   "cell_type": "code",
   "execution_count": 5,
   "id": "631842ef",
   "metadata": {},
   "outputs": [
    {
     "name": "stdout",
     "output_type": "stream",
     "text": [
      "Enter a range: 20\n",
      "Enter a value to exit: 5\n",
      "1 2 3 4 "
     ]
    }
   ],
   "source": [
    "h = int(input(\"Enter a range: \"))\n",
    "b = int(input(\"Enter a value to exit: \"))\n",
    "for i in range(1,h):\n",
    "    if i==b:\n",
    "        break\n",
    "    else:\n",
    "        print(i,end=\" \")"
   ]
  },
  {
   "cell_type": "code",
   "execution_count": 6,
   "id": "fc0fefd0",
   "metadata": {},
   "outputs": [
    {
     "name": "stdout",
     "output_type": "stream",
     "text": [
      "Enter a range: 20\n",
      "Enter a value to exit: 6\n",
      "1 2 3 4 5 7 8 9 10 11 12 13 14 15 16 17 18 19 "
     ]
    }
   ],
   "source": [
    "h = int(input(\"Enter a range: \"))\n",
    "b = int(input(\"Enter a value to exit: \"))\n",
    "for i in range(1,h):\n",
    "    if i==b:\n",
    "        continue\n",
    "    else:\n",
    "        print(i,end=\" \")"
   ]
  },
  {
   "cell_type": "code",
   "execution_count": 7,
   "id": "ab1c12f8",
   "metadata": {},
   "outputs": [
    {
     "name": "stdout",
     "output_type": "stream",
     "text": [
      "Enter a range: 30\n",
      "Enter a value to exit: 10\n",
      "1 2 3 4 5 6 7 8 9 11 12 13 14 15 16 17 18 19 20 21 22 23 24 25 26 27 28 29 "
     ]
    }
   ],
   "source": [
    "h = int(input(\"Enter a range: \"))\n",
    "b = int(input(\"Enter a value to exit: \"))\n",
    "for i in range(1,h):\n",
    "    if i==b:\n",
    "        pass\n",
    "    else:\n",
    "        print(i,end=\" \")"
   ]
  },
  {
   "cell_type": "code",
   "execution_count": 8,
   "id": "757600d9",
   "metadata": {},
   "outputs": [
    {
     "data": {
      "text/plain": [
       "4321"
      ]
     },
     "execution_count": 8,
     "metadata": {},
     "output_type": "execute_result"
    }
   ],
   "source": [
    "1234\n",
    "4321\n",
    "\n"
   ]
  },
  {
   "cell_type": "markdown",
   "id": "b6be86aa",
   "metadata": {},
   "source": [
    "```\n",
    "12345\n",
    "21345\n",
    "12354\n",
    "\n",
    "1234\n",
    "2134\n",
    "1243\n",
    "```"
   ]
  },
  {
   "cell_type": "markdown",
   "id": "efcc0362",
   "metadata": {},
   "source": [
    "```\n",
    "45687\n",
    "Even numbers are: 4 6 8\n",
    "Odd numbers are: 5 7\n",
    "sum of even numbers are: ?\n",
    "sum of odd numbers are: ?\n",
    "count of even numbers are: ?\n",
    "count of odd numbers are: ?\n",
    "```"
   ]
  },
  {
   "cell_type": "markdown",
   "id": "03416633",
   "metadata": {},
   "source": [
    "# Inner Loops:\n",
    "    - Loop within a Loop\n",
    "    "
   ]
  },
  {
   "cell_type": "code",
   "execution_count": 11,
   "id": "8583a93f",
   "metadata": {},
   "outputs": [
    {
     "name": "stdout",
     "output_type": "stream",
     "text": [
      "Enter row value: 3\n",
      "Enter column value: 5\n",
      "0 0 0 0 0 \n",
      "1 1 1 1 1 \n",
      "2 2 2 2 2 \n"
     ]
    }
   ],
   "source": [
    "n = int(input(\"Enter row value: \"))\n",
    "m = int(input(\"Enter column value: \"))\n",
    "for i in range(n):\n",
    "    for j in range(m):\n",
    "        print(i,end=\" \")\n",
    "    print()"
   ]
  },
  {
   "cell_type": "code",
   "execution_count": 12,
   "id": "f3aa07bb",
   "metadata": {},
   "outputs": [
    {
     "name": "stdout",
     "output_type": "stream",
     "text": [
      "Enter a size: 5\n",
      "* * * * * \n",
      "* * * * * \n",
      "* * * * * \n",
      "* * * * * \n",
      "* * * * * \n"
     ]
    }
   ],
   "source": [
    "n = int(input(\"Enter a size: \"))\n",
    "for i in range(n):\n",
    "    for j in range(n):\n",
    "        print(\"*\",end=\" \")\n",
    "    print()"
   ]
  },
  {
   "cell_type": "code",
   "execution_count": null,
   "id": "a01fbe09",
   "metadata": {},
   "outputs": [],
   "source": []
  }
 ],
 "metadata": {
  "kernelspec": {
   "display_name": "Python 3",
   "language": "python",
   "name": "python3"
  },
  "language_info": {
   "codemirror_mode": {
    "name": "ipython",
    "version": 3
   },
   "file_extension": ".py",
   "mimetype": "text/x-python",
   "name": "python",
   "nbconvert_exporter": "python",
   "pygments_lexer": "ipython3",
   "version": "3.7.5"
  }
 },
 "nbformat": 4,
 "nbformat_minor": 5
}
