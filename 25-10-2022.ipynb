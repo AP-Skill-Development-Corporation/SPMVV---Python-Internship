{
 "cells": [
  {
   "cell_type": "markdown",
   "metadata": {},
   "source": [
    "#### Problem Solving On Functions"
   ]
  },
  {
   "cell_type": "code",
   "execution_count": 5,
   "metadata": {},
   "outputs": [
    {
     "name": "stdout",
     "output_type": "stream",
     "text": [
      "1 2 3 4 5 6 7 8 9 10 "
     ]
    }
   ],
   "source": [
    "#### function to print n natural numbers by using for loop\n",
    "\n",
    "for i in range(1,11):\n",
    "    print(i,end=\" \")"
   ]
  },
  {
   "cell_type": "code",
   "execution_count": 7,
   "metadata": {},
   "outputs": [
    {
     "name": "stdout",
     "output_type": "stream",
     "text": [
      "enter your n value here20\n",
      "1 2 3 4 5 6 7 8 9 10 11 12 13 14 15 16 17 18 19 20 "
     ]
    }
   ],
   "source": [
    "### forloop\n",
    "n=int(input(\"enter your n value here\"))\n",
    "def natural(n):\n",
    "    for i in range(1,n+1):\n",
    "        print(i,end=\" \")\n",
    "        \n",
    "natural(n)"
   ]
  },
  {
   "cell_type": "code",
   "execution_count": 8,
   "metadata": {},
   "outputs": [
    {
     "name": "stdout",
     "output_type": "stream",
     "text": [
      "enter your n value here30\n",
      "1 2 3 4 5 6 7 8 9 10 11 12 13 14 15 16 17 18 19 20 21 22 23 24 25 26 27 28 29 30 "
     ]
    }
   ],
   "source": [
    "### while\n",
    "\n",
    "n=int(input(\"enter your n value here\"))\n",
    "def Natural(n):\n",
    "    counter=1\n",
    "    while counter<=n:\n",
    "        print(counter,end=\" \")\n",
    "        counter=counter+1\n",
    "        \n",
    "        \n",
    "Natural(n)"
   ]
  },
  {
   "cell_type": "code",
   "execution_count": 11,
   "metadata": {},
   "outputs": [
    {
     "name": "stdout",
     "output_type": "stream",
     "text": [
      "Enter your start value 1\n",
      "enter your end value30\n",
      "1 3 5 7 9 11 13 15 17 19 21 23 25 27 29 "
     ]
    }
   ],
   "source": [
    "### function to print alternate elements by using for loop\n",
    "\n",
    "s=int(input(\"Enter your start value \"))\n",
    "e=int(input(\"enter your end value\"))\n",
    "def alternate(s,e):\n",
    "    for i in range(s,e+1,2):\n",
    "        print(i,end=\" \")\n",
    "    \n",
    "alternate(s,e)"
   ]
  },
  {
   "cell_type": "code",
   "execution_count": 15,
   "metadata": {},
   "outputs": [
    {
     "name": "stdout",
     "output_type": "stream",
     "text": [
      "Enter your start value 1\n",
      "enter your end value10\n",
      "10 9 8 7 6 5 4 3 2 1 "
     ]
    }
   ],
   "source": [
    "## function to print reverse of given range of elements\n",
    "s=int(input(\"Enter your start value \"))\n",
    "e=int(input(\"enter your end value\"))\n",
    "def Reverse(s,e):\n",
    "    for i in range(e,s-1,-1):\n",
    "        print(i,end=\" \")\n",
    "    \n",
    "Reverse(s,e)"
   ]
  },
  {
   "cell_type": "code",
   "execution_count": 17,
   "metadata": {},
   "outputs": [
    {
     "name": "stdout",
     "output_type": "stream",
     "text": [
      "Enter your start value 1\n",
      "enter your end value20\n",
      "19 17 15 13 11 9 7 5 3 1 "
     ]
    }
   ],
   "source": [
    "#### function to print odd numbers in reverse orderin given range\n",
    "s=int(input(\"Enter your start value \"))\n",
    "e=int(input(\"enter your end value\"))\n",
    "def OddReverse(s,e):\n",
    "    for i in range(e,s-1,-1):\n",
    "        if (i%2!=0):\n",
    "            print(i,end=\" \")\n",
    "OddReverse(s,e)"
   ]
  },
  {
   "cell_type": "code",
   "execution_count": 20,
   "metadata": {},
   "outputs": [
    {
     "name": "stdout",
     "output_type": "stream",
     "text": [
      "Enter your start value 1\n",
      "enter your end value30\n",
      "465\n"
     ]
    }
   ],
   "source": [
    "#### function to print sum of numbers in given range\n",
    "### 1,10-->1,2,3,....10-->1+2+3+....+10=55\n",
    "\n",
    "s=int(input(\"Enter your start value \"))\n",
    "e=int(input(\"enter your end value\"))\n",
    "def SumOf(s,e):\n",
    "    s=0\n",
    "    for i in range(s,e+1):\n",
    "        s=s+i ###s=0,s=0+1=1,s=1+2=3,s=3+3=6,s=6+4=10,s=10+5=15\n",
    "    print(s)\n",
    "        \n",
    "    \n",
    "SumOf(s,e)"
   ]
  },
  {
   "cell_type": "code",
   "execution_count": 23,
   "metadata": {},
   "outputs": [
    {
     "name": "stdout",
     "output_type": "stream",
     "text": [
      "Enter your start value 1\n",
      "enter your end value20\n"
     ]
    },
    {
     "data": {
      "text/plain": [
       "10"
      ]
     },
     "execution_count": 23,
     "metadata": {},
     "output_type": "execute_result"
    }
   ],
   "source": [
    "### function to calculate the avg of given range\n",
    "s=int(input(\"Enter your start value \"))\n",
    "e=int(input(\"enter your end value\"))\n",
    "def Average(s,e):\n",
    "    s=0\n",
    "    c=0\n",
    "    for i in range(s,e+1):\n",
    "        s=s+i ###s=0,s=0+1=1,s=1+2=3,s=3+3=6,s=6+4=10,s=10+5=15\n",
    "        c=c+1  ###c=0,c=1,c=2,c=3.......c=10\n",
    "    return s//c\n",
    "        \n",
    "    \n",
    "Average(s,e)"
   ]
  },
  {
   "cell_type": "code",
   "execution_count": 27,
   "metadata": {},
   "outputs": [
    {
     "name": "stdout",
     "output_type": "stream",
     "text": [
      "Enter your number6\n",
      "720\n"
     ]
    }
   ],
   "source": [
    "### factorial\n",
    "#### 6=6*5*4*3*2*1=\n",
    "n=int(input(\"Enter your number\"))\n",
    "def Factorial(n):\n",
    "    f=1\n",
    "    for i in range(1,n+1):\n",
    "        f=f*i  ### f=1*1=1,f=1*2=2,f=2*3=6...\n",
    "    print(f)\n",
    "Factorial(n)"
   ]
  },
  {
   "cell_type": "code",
   "execution_count": 30,
   "metadata": {},
   "outputs": [
    {
     "name": "stdout",
     "output_type": "stream",
     "text": [
      "Enter your year here2022\n",
      "not a leap year\n"
     ]
    }
   ],
   "source": [
    "### leap year\n",
    "y=int(input(\"Enter your year here\"))\n",
    "def Leap(y):\n",
    "    if y%400==0 or (y%4==0  and y%100!=0):\n",
    "        print(\"leap year\")\n",
    "        \n",
    "    else:\n",
    "        print(\"not a leap year\")\n",
    "Leap(y)"
   ]
  },
  {
   "cell_type": "code",
   "execution_count": null,
   "metadata": {},
   "outputs": [],
   "source": [
    "## leap years range by using functons\n",
    "### check given no is prime or not\n",
    "### chect given no is perfect or not"
   ]
  }
 ],
 "metadata": {
  "kernelspec": {
   "display_name": "Python 3",
   "language": "python",
   "name": "python3"
  },
  "language_info": {
   "codemirror_mode": {
    "name": "ipython",
    "version": 3
   },
   "file_extension": ".py",
   "mimetype": "text/x-python",
   "name": "python",
   "nbconvert_exporter": "python",
   "pygments_lexer": "ipython3",
   "version": "3.7.3"
  }
 },
 "nbformat": 4,
 "nbformat_minor": 2
}
