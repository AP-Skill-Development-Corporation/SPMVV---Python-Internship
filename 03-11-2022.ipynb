{
 "cells": [
  {
   "cell_type": "code",
   "execution_count": 4,
   "metadata": {},
   "outputs": [
    {
     "name": "stdout",
     "output_type": "stream",
     "text": [
      "42\n"
     ]
    }
   ],
   "source": [
    "f=open('files/myfile.txt','w')\n",
    "g=f.write(\"hai guys welcome to python files concept \\n\")\n",
    "print(g)\n",
    "f.close()"
   ]
  },
  {
   "cell_type": "code",
   "execution_count": 16,
   "metadata": {},
   "outputs": [
    {
     "name": "stdout",
     "output_type": "stream",
     "text": [
      "16\n"
     ]
    }
   ],
   "source": [
    "f=open('files/myfile.txt','a')\n",
    "g=f.write(\"python workshop\\n\")\n",
    "print(g)\n",
    "f.close()"
   ]
  },
  {
   "cell_type": "code",
   "execution_count": 17,
   "metadata": {},
   "outputs": [
    {
     "name": "stdout",
     "output_type": "stream",
     "text": [
      "hai guys welcome to python files concept \n",
      "python workshopgood eveninggood evening\n",
      "python workshop\n",
      "\n"
     ]
    }
   ],
   "source": [
    "f=open('files/myfile.txt','r')\n",
    "g=f.read()\n",
    "print(g)\n",
    "f.close()"
   ]
  },
  {
   "cell_type": "code",
   "execution_count": 18,
   "metadata": {},
   "outputs": [
    {
     "data": {
      "text/plain": [
       "'hai guys welcome to python files concept \\npython workshopgood eveninggood evening\\npython workshop\\n'"
      ]
     },
     "execution_count": 18,
     "metadata": {},
     "output_type": "execute_result"
    }
   ],
   "source": [
    "### read\n",
    "f=open('files/myfile.txt','r')\n",
    "f.read()"
   ]
  },
  {
   "cell_type": "code",
   "execution_count": 19,
   "metadata": {},
   "outputs": [
    {
     "data": {
      "text/plain": [
       "['hai guys welcome to python files concept \\n',\n",
       " 'python workshopgood eveninggood evening\\n',\n",
       " 'python workshop\\n']"
      ]
     },
     "execution_count": 19,
     "metadata": {},
     "output_type": "execute_result"
    }
   ],
   "source": [
    "#### readlines\n",
    "f=open('files/myfile.txt','r')\n",
    "f.readlines()"
   ]
  },
  {
   "cell_type": "code",
   "execution_count": 20,
   "metadata": {},
   "outputs": [
    {
     "data": {
      "text/plain": [
       "'hai guys welcome to python files concept \\n'"
      ]
     },
     "execution_count": 20,
     "metadata": {},
     "output_type": "execute_result"
    }
   ],
   "source": [
    "f=open('files/myfile.txt','r')\n",
    "f.readline()"
   ]
  },
  {
   "cell_type": "code",
   "execution_count": 21,
   "metadata": {},
   "outputs": [
    {
     "name": "stdout",
     "output_type": "stream",
     "text": [
      "hai guys welcome to python files concept \n",
      "\n",
      "python workshopgood eveninggood evening\n",
      "\n",
      "python workshop\n",
      "\n"
     ]
    }
   ],
   "source": [
    "f=open('files/myfile.txt','r')\n",
    "data=f.readlines()\n",
    "for i in data:\n",
    "    print(i)"
   ]
  },
  {
   "cell_type": "code",
   "execution_count": 22,
   "metadata": {},
   "outputs": [
    {
     "name": "stdout",
     "output_type": "stream",
     "text": [
      "h\n",
      "a\n",
      "i\n",
      " \n",
      "g\n",
      "u\n",
      "y\n",
      "s\n",
      " \n",
      "w\n",
      "e\n",
      "l\n",
      "c\n",
      "o\n",
      "m\n",
      "e\n",
      " \n",
      "t\n",
      "o\n",
      " \n",
      "p\n",
      "y\n",
      "t\n",
      "h\n",
      "o\n",
      "n\n",
      " \n",
      "f\n",
      "i\n",
      "l\n",
      "e\n",
      "s\n",
      " \n",
      "c\n",
      "o\n",
      "n\n",
      "c\n",
      "e\n",
      "p\n",
      "t\n",
      " \n",
      "\n",
      "\n"
     ]
    }
   ],
   "source": [
    "f=open('files/myfile.txt','r')\n",
    "data=f.readline()\n",
    "for i in data:\n",
    "    print(i)"
   ]
  },
  {
   "cell_type": "code",
   "execution_count": 23,
   "metadata": {},
   "outputs": [
    {
     "name": "stdout",
     "output_type": "stream",
     "text": [
      "hai guys welcome to python files concept \n",
      "python workshopgood eveninggood evening\n",
      "python workshop\n",
      "\n"
     ]
    }
   ],
   "source": [
    "f=open('files/myfile.txt','r+')\n",
    "print(f.read())\n",
    "f.write(\"good evening\\n\")\n",
    "f.close()"
   ]
  },
  {
   "cell_type": "code",
   "execution_count": null,
   "metadata": {},
   "outputs": [],
   "source": []
  },
  {
   "cell_type": "code",
   "execution_count": null,
   "metadata": {},
   "outputs": [],
   "source": []
  }
 ],
 "metadata": {
  "kernelspec": {
   "display_name": "Python 3",
   "language": "python",
   "name": "python3"
  },
  "language_info": {
   "codemirror_mode": {
    "name": "ipython",
    "version": 3
   },
   "file_extension": ".py",
   "mimetype": "text/x-python",
   "name": "python",
   "nbconvert_exporter": "python",
   "pygments_lexer": "ipython3",
   "version": "3.7.3"
  }
 },
 "nbformat": 4,
 "nbformat_minor": 2
}
