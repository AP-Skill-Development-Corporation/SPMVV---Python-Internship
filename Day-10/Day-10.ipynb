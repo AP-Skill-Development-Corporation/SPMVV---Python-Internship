{
 "cells": [
  {
   "cell_type": "code",
   "execution_count": 4,
   "id": "41059870",
   "metadata": {},
   "outputs": [
    {
     "name": "stdout",
     "output_type": "stream",
     "text": [
      "enter a row and columns4\n",
      "* * * * \n",
      "*     * \n",
      "*     * \n",
      "* * * * \n"
     ]
    }
   ],
   "source": [
    "num=int(input(\"enter a row and columns\"))\n",
    "for i in range(num):\n",
    "    for j in range(num):\n",
    "        if(i==0 or i==num-1 or j==0 or j==num-1):\n",
    "            print(\"*\",end=\" \")\n",
    "        else:\n",
    "            print(\" \",end=\" \")\n",
    "    print()\n",
    "        "
   ]
  },
  {
   "cell_type": "code",
   "execution_count": null,
   "id": "431673a9",
   "metadata": {},
   "outputs": [],
   "source": [
    "12345\n",
    "2 4 \n",
    "1 3 5"
   ]
  },
  {
   "cell_type": "code",
   "execution_count": 7,
   "id": "57f9d3b9",
   "metadata": {},
   "outputs": [
    {
     "name": "stdout",
     "output_type": "stream",
     "text": [
      "Enter a number: 12345\n",
      "Even numbers are:  2 4 "
     ]
    }
   ],
   "source": [
    "n = int(input(\"Enter a number: \"))\n",
    "r = 0\n",
    "while n!=0:\n",
    "    r = r*10+n%10\n",
    "    n //=10\n",
    "y = r\n",
    "print(\"Even numbers are: \",end=\" \")\n",
    "while y!=0:\n",
    "    m = y%10\n",
    "    if m%2==0:\n",
    "        print(m,end=\" \")\n",
    "    y//=10"
   ]
  },
  {
   "cell_type": "markdown",
   "id": "e4dc8d7f",
   "metadata": {},
   "source": [
    "# Functions:\n",
    "    - To perform a specific task\n",
    "    - 2 types\n",
    "        => Builtin or Predefined\n",
    "        => User Defined\n",
    "    - Builtin is already exiting in the library. Task is to be fixed in it\n",
    "    - User Defined is based on user requirement\n",
    "    Syntax:\n",
    "        def functionname(arguments):\n",
    "            //stmnts\n",
    "            return return_value"
   ]
  },
  {
   "cell_type": "markdown",
   "id": "10b68c70",
   "metadata": {},
   "source": [
    "# User Defined Functions:\n",
    "    - With returntype and with arguments\n",
    "    - With returntype and without arguments\n",
    "    - Without returntype and with arguments\n",
    "    - Without returntype and without arguments"
   ]
  },
  {
   "cell_type": "code",
   "execution_count": 9,
   "id": "40e0b719",
   "metadata": {},
   "outputs": [
    {
     "name": "stdout",
     "output_type": "stream",
     "text": [
      "Enter a number: 5\n",
      "Factorial of 5 is: 120\n"
     ]
    }
   ],
   "source": [
    "# - With returntype and with arguments\n",
    "# Reading => Main\n",
    "# Printing => Main\n",
    "# Logic => Function\n",
    "\n",
    "def fct(k):\n",
    "    p = 1\n",
    "    for i in range(1,k+1):\n",
    "        p = p*i\n",
    "    return p\n",
    "\n",
    "n = int(input(\"Enter a number: \"))\n",
    "print(f\"Factorial of {n} is: {fct(n)}\")"
   ]
  },
  {
   "cell_type": "code",
   "execution_count": 11,
   "id": "631c787b",
   "metadata": {},
   "outputs": [
    {
     "name": "stdout",
     "output_type": "stream",
     "text": [
      "Enter a number: 5\n",
      "Factorial of 5 is: 120\n"
     ]
    }
   ],
   "source": [
    "# - With returntype and without arguments\n",
    "# Reading => Function\n",
    "# Printing => Main\n",
    "# Logic => Function\n",
    "\n",
    "def fct():\n",
    "    k = int(input(\"Enter a number: \"))\n",
    "    p = 1\n",
    "    print(f\"Factorial of {k}\",end=\" \")\n",
    "    for i in range(1,k+1):\n",
    "        p = p*i\n",
    "    return p\n",
    "\n",
    "print(f\"is: {fct()}\")"
   ]
  },
  {
   "cell_type": "code",
   "execution_count": 17,
   "id": "8a610ea9",
   "metadata": {},
   "outputs": [
    {
     "name": "stdout",
     "output_type": "stream",
     "text": [
      "Enter a number: 6\n",
      "Factorial of 6 is: 720 "
     ]
    }
   ],
   "source": [
    "# - Without returntype and with arguments\n",
    "# Reading => Main\n",
    "# Printing => Function\n",
    "# Logic => Function\n",
    "\n",
    "def fct(k):\n",
    "    p = 1\n",
    "    print(f\"Factorial of {k} is:\",end=\" \")\n",
    "    for i in range(1,k+1):\n",
    "        p = p*i\n",
    "    print(p,end=\" \")\n",
    "    return\n",
    "\n",
    "n = int(input(\"Enter a number: \"))\n",
    "fct(n)"
   ]
  },
  {
   "cell_type": "code",
   "execution_count": 18,
   "id": "db952f43",
   "metadata": {},
   "outputs": [
    {
     "name": "stdout",
     "output_type": "stream",
     "text": [
      "Enter a number: 5\n",
      "Factorial of 5 is: 120 "
     ]
    }
   ],
   "source": [
    "# - Without returntype and without arguments\n",
    "# Reading => Function\n",
    "# Printing => Function\n",
    "# Logic => Function\n",
    "\n",
    "def fct():\n",
    "    p = 1\n",
    "    k = int(input(\"Enter a number: \"))\n",
    "    print(f\"Factorial of {k} is:\",end=\" \")\n",
    "    for i in range(1,k+1):\n",
    "        p = p*i\n",
    "    print(p,end=\" \")\n",
    "    return\n",
    "\n",
    "fct()"
   ]
  },
  {
   "cell_type": "code",
   "execution_count": null,
   "id": "fba8ad3c",
   "metadata": {},
   "outputs": [],
   "source": []
  }
 ],
 "metadata": {
  "kernelspec": {
   "display_name": "Python 3",
   "language": "python",
   "name": "python3"
  },
  "language_info": {
   "codemirror_mode": {
    "name": "ipython",
    "version": 3
   },
   "file_extension": ".py",
   "mimetype": "text/x-python",
   "name": "python",
   "nbconvert_exporter": "python",
   "pygments_lexer": "ipython3",
   "version": "3.7.5"
  }
 },
 "nbformat": 4,
 "nbformat_minor": 5
}
