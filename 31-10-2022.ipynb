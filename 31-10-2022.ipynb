{
 "cells": [
  {
   "cell_type": "markdown",
   "metadata": {},
   "source": [
    "### python data structures:\n",
    "    - dictionary\n",
    "    - sets"
   ]
  },
  {
   "cell_type": "markdown",
   "metadata": {},
   "source": [
    "#### dictionary:\n",
    "    - it is a collection of different data types data\n",
    "    -it is a group of key and value pair(key,value pair)\n",
    "    - in dictionary \"keys\" are unique\n",
    "    - it is represents with '{}'\n",
    "    - in dict each and every item is separated with ,\n",
    "    - accessing dict values by using key name\n",
    "    - it is a mutable"
   ]
  },
  {
   "cell_type": "markdown",
   "metadata": {},
   "source": [
    "### to create an empty dict\n",
    "dict_name={}\n",
    "\n",
    "### to create the dict with values:\n",
    "dict_name={key:value,key:value,.....kn:vn}"
   ]
  },
  {
   "cell_type": "code",
   "execution_count": 2,
   "metadata": {},
   "outputs": [
    {
     "name": "stdout",
     "output_type": "stream",
     "text": [
      "<class 'dict'>\n"
     ]
    }
   ],
   "source": [
    "### empty dict\n",
    "d1={}\n",
    "print(type(d1))"
   ]
  },
  {
   "cell_type": "code",
   "execution_count": 4,
   "metadata": {},
   "outputs": [
    {
     "name": "stdout",
     "output_type": "stream",
     "text": [
      "{'a': 100, 'b': 300, 'c': 400}\n",
      "<class 'dict'>\n"
     ]
    }
   ],
   "source": [
    "#### with values:\n",
    "d2={'a':100,'b':300,'c':400}\n",
    "print(d2)\n",
    "print(type(d2))"
   ]
  },
  {
   "cell_type": "code",
   "execution_count": 7,
   "metadata": {},
   "outputs": [
    {
     "name": "stdout",
     "output_type": "stream",
     "text": [
      "{3: 100, 7: 800, 9: 'python'}\n",
      "<class 'dict'>\n"
     ]
    }
   ],
   "source": [
    "d3={3:100,7:800,9:'python'}\n",
    "print(d3)\n",
    "print(type(d3))"
   ]
  },
  {
   "cell_type": "code",
   "execution_count": 12,
   "metadata": {},
   "outputs": [
    {
     "name": "stdout",
     "output_type": "stream",
     "text": [
      "{'name': 'srikanya', 'rollnumber': 130659, 'branch': 'ECE', 'CGPA': 8.0}\n",
      "<class 'dict'>\n",
      "130659\n",
      "ECE\n",
      "srikanya\n"
     ]
    }
   ],
   "source": [
    "#### dict with different data types:\n",
    "data={'name':'srikanya','rollnumber':130659,'branch':'ECE','CGPA':8.0}\n",
    "print(data)\n",
    "print(type(data))\n",
    "print(data['rollnumber'])\n",
    "print(data['branch'])\n",
    "print(data['name'])"
   ]
  },
  {
   "cell_type": "code",
   "execution_count": 13,
   "metadata": {},
   "outputs": [
    {
     "name": "stdout",
     "output_type": "stream",
     "text": [
      "['__class__', '__contains__', '__delattr__', '__delitem__', '__dir__', '__doc__', '__eq__', '__format__', '__ge__', '__getattribute__', '__getitem__', '__gt__', '__hash__', '__init__', '__init_subclass__', '__iter__', '__le__', '__len__', '__lt__', '__ne__', '__new__', '__reduce__', '__reduce_ex__', '__repr__', '__setattr__', '__setitem__', '__sizeof__', '__str__', '__subclasshook__', 'clear', 'copy', 'fromkeys', 'get', 'items', 'keys', 'pop', 'popitem', 'setdefault', 'update', 'values']\n"
     ]
    }
   ],
   "source": [
    "### methods:\n",
    "print(dir(dict))"
   ]
  },
  {
   "cell_type": "markdown",
   "metadata": {},
   "source": [
    "### keys():\n",
    "    - to get the only key names in the format of list\n",
    "    - dict_name.keys()"
   ]
  },
  {
   "cell_type": "code",
   "execution_count": 15,
   "metadata": {},
   "outputs": [
    {
     "name": "stdout",
     "output_type": "stream",
     "text": [
      "{'name': 'srikanya', 'rollnumber': 130659, 'branch': 'ECE', 'CGPA': 8.0}\n",
      "dict_keys(['name', 'rollnumber', 'branch', 'CGPA'])\n"
     ]
    }
   ],
   "source": [
    "print(data)\n",
    "print(data.keys())"
   ]
  },
  {
   "cell_type": "markdown",
   "metadata": {},
   "source": [
    "#### values():\n",
    "    - to get the dict values in the foramt of list\n",
    "    - dict_name.values()"
   ]
  },
  {
   "cell_type": "code",
   "execution_count": 17,
   "metadata": {},
   "outputs": [
    {
     "name": "stdout",
     "output_type": "stream",
     "text": [
      "{'name': 'srikanya', 'rollnumber': 130659, 'branch': 'ECE', 'CGPA': 8.0}\n",
      "dict_values(['srikanya', 130659, 'ECE', 8.0])\n"
     ]
    }
   ],
   "source": [
    "print(data)\n",
    "print(data.values())"
   ]
  },
  {
   "cell_type": "markdown",
   "metadata": {},
   "source": [
    "### items():\n",
    "    - to get the dict items like(keyname,value) in format of tuple\n",
    "    - dict_name.items()"
   ]
  },
  {
   "cell_type": "code",
   "execution_count": 18,
   "metadata": {},
   "outputs": [
    {
     "name": "stdout",
     "output_type": "stream",
     "text": [
      "{'name': 'srikanya', 'rollnumber': 130659, 'branch': 'ECE', 'CGPA': 8.0}\n",
      "dict_items([('name', 'srikanya'), ('rollnumber', 130659), ('branch', 'ECE'), ('CGPA', 8.0)])\n"
     ]
    }
   ],
   "source": [
    "print(data)\n",
    "print(data.items())"
   ]
  },
  {
   "cell_type": "markdown",
   "metadata": {},
   "source": [
    "### get()\n",
    "    - to get the dict values based on particular keyname\n",
    "    - dict_name.get('key_name')"
   ]
  },
  {
   "cell_type": "code",
   "execution_count": 22,
   "metadata": {},
   "outputs": [
    {
     "name": "stdout",
     "output_type": "stream",
     "text": [
      "{'name': 'srikanya', 'rollnumber': 130659, 'branch': 'ECE', 'CGPA': 8.0}\n",
      "ECE\n",
      "130659\n",
      "8.0\n"
     ]
    }
   ],
   "source": [
    "print(data)\n",
    "print(data.get('branch'))\n",
    "print(data.get('rollnumber'))\n",
    "print(data.get('CGPA'))"
   ]
  },
  {
   "cell_type": "markdown",
   "metadata": {},
   "source": [
    "#### SET DEFAULT():\n",
    "    - to add the new item to the end of the dictionary\n",
    "    - dict_name.setdefault(keyname,value)"
   ]
  },
  {
   "cell_type": "code",
   "execution_count": 25,
   "metadata": {},
   "outputs": [
    {
     "name": "stdout",
     "output_type": "stream",
     "text": [
      "{'name': 'srikanya', 'rollnumber': 130659, 'branch': 'ECE', 'CGPA': 8.0, 'section': 'A'}\n",
      "A\n",
      "{'name': 'srikanya', 'rollnumber': 130659, 'branch': 'ECE', 'CGPA': 8.0, 'section': 'A'}\n",
      "green\n",
      "{'name': 'srikanya', 'rollnumber': 130659, 'branch': 'ECE', 'CGPA': 8.0, 'section': 'A', 'color': 'green'}\n"
     ]
    }
   ],
   "source": [
    "print(data)\n",
    "print(data.setdefault('section','A'))\n",
    "print(data)\n",
    "print(data.setdefault('color','green'))\n",
    "print(data)"
   ]
  },
  {
   "cell_type": "markdown",
   "metadata": {},
   "source": [
    "### update():\n",
    "    - to update the any existing value in dictionary\n",
    "    - dict_name.update(keyname:'updated value')"
   ]
  },
  {
   "cell_type": "code",
   "execution_count": 31,
   "metadata": {},
   "outputs": [
    {
     "name": "stdout",
     "output_type": "stream",
     "text": [
      "{'name': 'siri', 'rollnumber': 130659, 'branch': 'EEE', 'CGPA': 8.0, 'section': 'A', 'color': 'green'}\n",
      "None\n",
      "{'name': 'siri', 'rollnumber': 130659, 'branch': 'EEE', 'CGPA': 8.0, 'section': 'A', 'color': 'green'}\n",
      "None\n",
      "{'name': 'siri', 'rollnumber': 130659, 'branch': 'EEE', 'CGPA': 8.0, 'section': 'A', 'color': 'green'}\n"
     ]
    }
   ],
   "source": [
    "print(data)\n",
    "print(data.update({'name':'siri'}))\n",
    "print(data)\n",
    "print(data.update({'branch':'EEE'}))\n",
    "print(data)"
   ]
  },
  {
   "cell_type": "markdown",
   "metadata": {},
   "source": [
    "### pop():\n",
    "    - to delete an item from the dict using keyname\n",
    "    - dict_name.pop(keyname)"
   ]
  },
  {
   "cell_type": "code",
   "execution_count": 38,
   "metadata": {
    "scrolled": true
   },
   "outputs": [
    {
     "name": "stdout",
     "output_type": "stream",
     "text": [
      "{'name': 'siri', 'rollnumber': 130659, 'branch': 'EEE', 'section': 'A', 'color': 'green'}\n",
      "A\n"
     ]
    }
   ],
   "source": [
    "print(data)\n",
    "print(data.pop('section'))\n",
    "\n"
   ]
  },
  {
   "cell_type": "code",
   "execution_count": 39,
   "metadata": {},
   "outputs": [
    {
     "name": "stdout",
     "output_type": "stream",
     "text": [
      "{'name': 'siri', 'rollnumber': 130659, 'branch': 'EEE', 'color': 'green'}\n"
     ]
    }
   ],
   "source": [
    "print(data)"
   ]
  },
  {
   "cell_type": "markdown",
   "metadata": {},
   "source": [
    "### popitem():\n",
    "    - to delete the last item from the dict\n",
    "    - dict_name.popitem()"
   ]
  },
  {
   "cell_type": "code",
   "execution_count": 43,
   "metadata": {},
   "outputs": [
    {
     "name": "stdout",
     "output_type": "stream",
     "text": [
      "{'name': 'siri', 'rollnumber': 130659, 'branch': 'EEE'}\n",
      "('branch', 'EEE')\n"
     ]
    }
   ],
   "source": [
    "print(data)\n",
    "print(data.popitem())"
   ]
  },
  {
   "cell_type": "code",
   "execution_count": 44,
   "metadata": {},
   "outputs": [
    {
     "name": "stdout",
     "output_type": "stream",
     "text": [
      "{'name': 'siri', 'rollnumber': 130659}\n"
     ]
    }
   ],
   "source": [
    "print(data)"
   ]
  },
  {
   "cell_type": "markdown",
   "metadata": {},
   "source": [
    "### fromkeys():\n",
    "    - it returns the new dict\n",
    "    - variable=dict.fromkeys(sequence,value)"
   ]
  },
  {
   "cell_type": "code",
   "execution_count": 47,
   "metadata": {},
   "outputs": [
    {
     "name": "stdout",
     "output_type": "stream",
     "text": [
      "{1: 67, 2: 67, 3: 67}\n",
      "{1: 'abc', 2: 67, 3: 67}\n",
      "{1: 'abc', 2: 'red', 3: 67}\n"
     ]
    }
   ],
   "source": [
    "l1=[1,2,3]\n",
    "d4=dict.fromkeys(l1,67)\n",
    "print(d4)\n",
    "d4[1]=\"abc\"\n",
    "print(d4)\n",
    "d4[2]=\"red\"\n",
    "print(d4)\n"
   ]
  },
  {
   "cell_type": "code",
   "execution_count": 49,
   "metadata": {},
   "outputs": [
    {
     "name": "stdout",
     "output_type": "stream",
     "text": [
      "{'name': 'siri', 'rollnumber': 130659}\n",
      "None\n"
     ]
    }
   ],
   "source": [
    "### clear()\n",
    "print(data)\n",
    "print(data.clear())"
   ]
  },
  {
   "cell_type": "code",
   "execution_count": 50,
   "metadata": {},
   "outputs": [
    {
     "name": "stdout",
     "output_type": "stream",
     "text": [
      "{}\n"
     ]
    }
   ],
   "source": [
    "print(data)"
   ]
  },
  {
   "cell_type": "markdown",
   "metadata": {},
   "source": [
    "#### set():\n",
    "    - it  is a collection of different data types\n",
    "    - it is un ordered,un indexed\n",
    "    - it represents with \"{}\"\n",
    "    - it allows duplicates also"
   ]
  },
  {
   "cell_type": "code",
   "execution_count": 52,
   "metadata": {},
   "outputs": [
    {
     "name": "stdout",
     "output_type": "stream",
     "text": [
      "<class 'set'>\n"
     ]
    }
   ],
   "source": [
    "s={67,89,90,56,34}\n",
    "print(type(s))"
   ]
  },
  {
   "cell_type": "code",
   "execution_count": 53,
   "metadata": {},
   "outputs": [
    {
     "name": "stdout",
     "output_type": "stream",
     "text": [
      "['__and__', '__class__', '__contains__', '__delattr__', '__dir__', '__doc__', '__eq__', '__format__', '__ge__', '__getattribute__', '__gt__', '__hash__', '__iand__', '__init__', '__init_subclass__', '__ior__', '__isub__', '__iter__', '__ixor__', '__le__', '__len__', '__lt__', '__ne__', '__new__', '__or__', '__rand__', '__reduce__', '__reduce_ex__', '__repr__', '__ror__', '__rsub__', '__rxor__', '__setattr__', '__sizeof__', '__str__', '__sub__', '__subclasshook__', '__xor__', 'add', 'clear', 'copy', 'difference', 'difference_update', 'discard', 'intersection', 'intersection_update', 'isdisjoint', 'issubset', 'issuperset', 'pop', 'remove', 'symmetric_difference', 'symmetric_difference_update', 'union', 'update']\n"
     ]
    }
   ],
   "source": [
    "print(dir(set))"
   ]
  },
  {
   "cell_type": "code",
   "execution_count": 57,
   "metadata": {},
   "outputs": [
    {
     "name": "stdout",
     "output_type": "stream",
     "text": [
      "{65, 34, 67, 56, 89, 90}\n",
      "None\n",
      "{65, 34, 67, 56, 89, 90}\n",
      "None\n",
      "{65, 34, 67, 66, 77, 56, 89, 90, 88}\n"
     ]
    }
   ],
   "source": [
    "print(s)\n",
    "print(s.add(65))\n",
    "print(s)\n",
    "print(s.update([66,77,88]))\n",
    "print(s)"
   ]
  },
  {
   "cell_type": "code",
   "execution_count": null,
   "metadata": {},
   "outputs": [],
   "source": [
    "#### mathematical methods:\n",
    "    - union \n",
    "    - intersection\n",
    "    - difference"
   ]
  },
  {
   "cell_type": "code",
   "execution_count": 58,
   "metadata": {
    "collapsed": true
   },
   "outputs": [
    {
     "name": "stdout",
     "output_type": "stream",
     "text": [
      "{0, 3, 5, 6, 8, 9}\n"
     ]
    }
   ],
   "source": [
    "A={8,9,0,6,5}\n",
    "B={3,5,6,8,9}\n",
    "print(A.union(B))"
   ]
  },
  {
   "cell_type": "code",
   "execution_count": 60,
   "metadata": {
    "collapsed": true
   },
   "outputs": [
    {
     "name": "stdout",
     "output_type": "stream",
     "text": [
      "{8, 9, 5, 6}\n"
     ]
    }
   ],
   "source": [
    "A={8,9,0,6,5}\n",
    "B={3,5,6,8,9}\n",
    "print(A.intersection(B))"
   ]
  },
  {
   "cell_type": "code",
   "execution_count": 61,
   "metadata": {
    "collapsed": true
   },
   "outputs": [
    {
     "name": "stdout",
     "output_type": "stream",
     "text": [
      "{0}\n"
     ]
    }
   ],
   "source": [
    "A={8,9,0,6,5}\n",
    "B={3,5,6,8,9}\n",
    "print(A.difference(B))"
   ]
  },
  {
   "cell_type": "code",
   "execution_count": null,
   "metadata": {},
   "outputs": [],
   "source": [
    "### li=[90,78,90,56,78,34,56]\n",
    "#### [90,78,56,34,56]"
   ]
  }
 ],
 "metadata": {
  "kernelspec": {
   "display_name": "Python 3",
   "language": "python",
   "name": "python3"
  },
  "language_info": {
   "codemirror_mode": {
    "name": "ipython",
    "version": 3
   },
   "file_extension": ".py",
   "mimetype": "text/x-python",
   "name": "python",
   "nbconvert_exporter": "python",
   "pygments_lexer": "ipython3",
   "version": "3.7.3"
  }
 },
 "nbformat": 4,
 "nbformat_minor": 2
}
