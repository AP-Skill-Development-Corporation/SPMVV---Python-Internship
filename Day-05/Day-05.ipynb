{
 "cells": [
  {
   "cell_type": "code",
   "execution_count": 4,
   "id": "df94b6b1",
   "metadata": {},
   "outputs": [
    {
     "name": "stdout",
     "output_type": "stream",
     "text": [
      "3\n",
      "8\n",
      "(3+8j)\n"
     ]
    },
    {
     "data": {
      "text/plain": [
       "complex"
      ]
     },
     "execution_count": 4,
     "metadata": {},
     "output_type": "execute_result"
    }
   ],
   "source": [
    "c=complex(int(input()),int(input()))\n",
    "print(c)\n",
    "type(c)"
   ]
  },
  {
   "cell_type": "code",
   "execution_count": 8,
   "id": "d7788ebb",
   "metadata": {},
   "outputs": [
    {
     "name": "stdout",
     "output_type": "stream",
     "text": [
      "Enter a number: 5\n",
      "Enter b number: 6\n",
      "Division of 5 and 6 is: 0.833333\n"
     ]
    },
    {
     "ename": "IndexError",
     "evalue": "tuple index out of range",
     "output_type": "error",
     "traceback": [
      "\u001b[1;31m---------------------------------------------------------------------\u001b[0m",
      "\u001b[1;31mIndexError\u001b[0m                          Traceback (most recent call last)",
      "\u001b[1;32m<ipython-input-8-07008ef2b565>\u001b[0m in \u001b[0;36m<module>\u001b[1;34m\u001b[0m\n\u001b[0;32m      1\u001b[0m \u001b[0mn\u001b[0m\u001b[1;33m,\u001b[0m\u001b[0mm\u001b[0m \u001b[1;33m=\u001b[0m \u001b[0mint\u001b[0m\u001b[1;33m(\u001b[0m\u001b[0minput\u001b[0m\u001b[1;33m(\u001b[0m\u001b[1;34m\"Enter a number: \"\u001b[0m\u001b[1;33m)\u001b[0m\u001b[1;33m)\u001b[0m\u001b[1;33m,\u001b[0m\u001b[0mint\u001b[0m\u001b[1;33m(\u001b[0m\u001b[0minput\u001b[0m\u001b[1;33m(\u001b[0m\u001b[1;34m\"Enter b number: \"\u001b[0m\u001b[1;33m)\u001b[0m\u001b[1;33m)\u001b[0m\u001b[1;33m\u001b[0m\u001b[1;33m\u001b[0m\u001b[0m\n\u001b[0;32m      2\u001b[0m \u001b[0mprint\u001b[0m\u001b[1;33m(\u001b[0m\u001b[1;34m\"Division of %d and %d is: %f\"\u001b[0m\u001b[1;33m%\u001b[0m\u001b[1;33m(\u001b[0m\u001b[0mn\u001b[0m\u001b[1;33m,\u001b[0m\u001b[0mm\u001b[0m\u001b[1;33m,\u001b[0m\u001b[0mn\u001b[0m\u001b[1;33m/\u001b[0m\u001b[0mm\u001b[0m\u001b[1;33m)\u001b[0m\u001b[1;33m)\u001b[0m\u001b[1;33m\u001b[0m\u001b[1;33m\u001b[0m\u001b[0m\n\u001b[1;32m----> 3\u001b[1;33m \u001b[0mprint\u001b[0m\u001b[1;33m(\u001b[0m\u001b[1;34m\"Division of {} and {} is: {} {}\"\u001b[0m\u001b[1;33m.\u001b[0m\u001b[0mformat\u001b[0m\u001b[1;33m(\u001b[0m\u001b[0mn\u001b[0m\u001b[1;33m,\u001b[0m\u001b[0mm\u001b[0m\u001b[1;33m,\u001b[0m\u001b[0mn\u001b[0m\u001b[1;33m/\u001b[0m\u001b[0mm\u001b[0m\u001b[1;33m)\u001b[0m\u001b[1;33m)\u001b[0m\u001b[1;33m\u001b[0m\u001b[1;33m\u001b[0m\u001b[0m\n\u001b[0m",
      "\u001b[1;31mIndexError\u001b[0m: tuple index out of range"
     ]
    }
   ],
   "source": [
    "n,m = int(input(\"Enter a number: \")),int(input(\"Enter b number: \"))\n",
    "print(\"Division of %d and %d is: %f\"%(n,m,n/m))\n",
    "print(\"Division of {} and {} is: {} {}\".format(n,m,n/m))"
   ]
  },
  {
   "cell_type": "code",
   "execution_count": 9,
   "id": "b45cfc76",
   "metadata": {},
   "outputs": [
    {
     "name": "stdout",
     "output_type": "stream",
     "text": [
      "Enter a number: 8\n",
      "Enter b number: 9\n",
      "Division of 8 and 9 is: 0.888889\n",
      "Division of 9 and 8 is: 0.8888888888888888\n"
     ]
    }
   ],
   "source": [
    "n,m = int(input(\"Enter a number: \")),int(input(\"Enter b number: \"))\n",
    "print(\"Division of %d and %d is: %f\"%(n,m,n/m))\n",
    "print(\"Division of {1} and {0} is: {2}\".format(n,m,n/m))"
   ]
  },
  {
   "cell_type": "code",
   "execution_count": 10,
   "id": "ecc397f7",
   "metadata": {},
   "outputs": [
    {
     "name": "stdout",
     "output_type": "stream",
     "text": [
      "Enter a value: 5\n",
      "Enter b value: 6\n",
      "Multiplication of 5 and 6 is: 30\n"
     ]
    }
   ],
   "source": [
    "p,q = int(input(\"Enter a value: \")),int(input(\"Enter b value: \"))\n",
    "print(f\"Multiplication of {p} and {q} is: {p*q}\")"
   ]
  },
  {
   "cell_type": "markdown",
   "id": "8ed6b972",
   "metadata": {},
   "source": [
    "# Operators:\n",
    "    - Arithmetic => +,-,/,%,*,//(floor division),**(Exponent)\n",
    "    - Logical => AND,OR,XOR\n",
    "    - Bitwise => &,|,!,^,>>,<<\n",
    "    - Relational => >,<,==,!=,>=,<=\n",
    "    - Assignment => +=,-=,/=,%=,**=,//=\n",
    "    - Membership => in, not in\n",
    "    - Identity => is,is not"
   ]
  },
  {
   "cell_type": "code",
   "execution_count": 11,
   "id": "7766f76d",
   "metadata": {},
   "outputs": [],
   "source": [
    "import keyword"
   ]
  },
  {
   "cell_type": "code",
   "execution_count": 12,
   "id": "3ea96686",
   "metadata": {},
   "outputs": [
    {
     "name": "stdout",
     "output_type": "stream",
     "text": [
      "['__all__', '__builtins__', '__cached__', '__doc__', '__file__', '__loader__', '__name__', '__package__', '__spec__', 'iskeyword', 'kwlist', 'main']\n"
     ]
    }
   ],
   "source": [
    "print(dir(keyword))"
   ]
  },
  {
   "cell_type": "code",
   "execution_count": 13,
   "id": "f41a2793",
   "metadata": {},
   "outputs": [
    {
     "name": "stdout",
     "output_type": "stream",
     "text": [
      "['False', 'None', 'True', 'and', 'as', 'assert', 'async', 'await', 'break', 'class', 'continue', 'def', 'del', 'elif', 'else', 'except', 'finally', 'for', 'from', 'global', 'if', 'import', 'in', 'is', 'lambda', 'nonlocal', 'not', 'or', 'pass', 'raise', 'return', 'try', 'while', 'with', 'yield']\n"
     ]
    }
   ],
   "source": [
    "print(keyword.kwlist)"
   ]
  },
  {
   "cell_type": "code",
   "execution_count": 14,
   "id": "2221c76b",
   "metadata": {},
   "outputs": [
    {
     "name": "stdout",
     "output_type": "stream",
     "text": [
      "35\n"
     ]
    }
   ],
   "source": [
    "print(len(keyword.kwlist))"
   ]
  },
  {
   "cell_type": "markdown",
   "id": "0c13d792",
   "metadata": {},
   "source": [
    "# Conditional Statements:\n",
    "    - To Check whether a given condition is either True or False\n",
    "    - if => single case\n",
    "    - if-else => two cases\n",
    "    - nested if => two or more cases\n",
    "    - elif => two or more n number of cases"
   ]
  },
  {
   "cell_type": "markdown",
   "id": "6b41cad1",
   "metadata": {},
   "source": [
    "# if:\n",
    "    () => optional\n",
    "    Syntax:\n",
    "        if (condition):\n",
    "            //stmnts"
   ]
  },
  {
   "cell_type": "code",
   "execution_count": 23,
   "id": "c5273cf2",
   "metadata": {},
   "outputs": [
    {
     "name": "stdout",
     "output_type": "stream",
     "text": [
      "enter a number1\n",
      "enter a number3\n"
     ]
    }
   ],
   "source": [
    "a=float(input(\"enter a number\"))\n",
    "b=int(input(\"enter a number\"))\n",
    "if (a>b):\n",
    "    print(\"{} is greater than {}\".format(a,b))\n",
    "    "
   ]
  },
  {
   "cell_type": "markdown",
   "id": "ce35448d",
   "metadata": {},
   "source": [
    "# If-else:\n",
    "    Syntax:\n",
    "        () => Optional\n",
    "        if (condition-1):\n",
    "            //stmnt-1\n",
    "        else:\n",
    "            //stmnt-2"
   ]
  },
  {
   "cell_type": "code",
   "execution_count": 25,
   "id": "37785424",
   "metadata": {},
   "outputs": [
    {
     "name": "stdout",
     "output_type": "stream",
     "text": [
      "enter the number1 : 24\n",
      "enter the number2 : 76\n",
      "76 is greater than 24\n"
     ]
    }
   ],
   "source": [
    "a=int(input(\"enter the number1 : \"))\n",
    "b=int(input(\"enter the number2 : \"))\n",
    "if(a>b):\n",
    "    print(f\"{a} is greater than {b}\")\n",
    "else:\n",
    "    print(f\"{b} is greater than {a}\")"
   ]
  },
  {
   "cell_type": "code",
   "execution_count": null,
   "id": "2bcade56",
   "metadata": {},
   "outputs": [],
   "source": []
  }
 ],
 "metadata": {
  "kernelspec": {
   "display_name": "Python 3",
   "language": "python",
   "name": "python3"
  },
  "language_info": {
   "codemirror_mode": {
    "name": "ipython",
    "version": 3
   },
   "file_extension": ".py",
   "mimetype": "text/x-python",
   "name": "python",
   "nbconvert_exporter": "python",
   "pygments_lexer": "ipython3",
   "version": "3.7.5"
  }
 },
 "nbformat": 4,
 "nbformat_minor": 5
}
