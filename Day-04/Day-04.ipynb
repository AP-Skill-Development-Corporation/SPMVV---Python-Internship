{
 "cells": [
  {
   "cell_type": "code",
   "execution_count": 1,
   "id": "cc4f4c52",
   "metadata": {},
   "outputs": [
    {
     "data": {
      "text/plain": [
       "10"
      ]
     },
     "execution_count": 1,
     "metadata": {},
     "output_type": "execute_result"
    }
   ],
   "source": [
    "a=10\n",
    "a"
   ]
  },
  {
   "cell_type": "code",
   "execution_count": 3,
   "id": "06c39e92",
   "metadata": {},
   "outputs": [
    {
     "data": {
      "text/plain": [
       "(20, 45, 'Lalitha')"
      ]
     },
     "execution_count": 3,
     "metadata": {},
     "output_type": "execute_result"
    }
   ],
   "source": [
    "b = 20,45,'Lalitha'\n",
    "b"
   ]
  },
  {
   "cell_type": "code",
   "execution_count": 4,
   "id": "1469b4d8",
   "metadata": {},
   "outputs": [
    {
     "name": "stdout",
     "output_type": "stream",
     "text": [
      "45 2.54 True\n"
     ]
    }
   ],
   "source": [
    "c,d,g = 45,2.54,True\n",
    "print(c,d,g)"
   ]
  },
  {
   "cell_type": "code",
   "execution_count": 5,
   "id": "10db97d7",
   "metadata": {},
   "outputs": [
    {
     "ename": "ValueError",
     "evalue": "too many values to unpack (expected 3)",
     "output_type": "error",
     "traceback": [
      "\u001b[1;31m---------------------------------------------------------------------\u001b[0m",
      "\u001b[1;31mValueError\u001b[0m                          Traceback (most recent call last)",
      "\u001b[1;32m<ipython-input-5-25f3d9cfcdef>\u001b[0m in \u001b[0;36m<module>\u001b[1;34m\u001b[0m\n\u001b[1;32m----> 1\u001b[1;33m \u001b[0mc\u001b[0m\u001b[1;33m,\u001b[0m\u001b[0md\u001b[0m\u001b[1;33m,\u001b[0m\u001b[0mg\u001b[0m \u001b[1;33m=\u001b[0m \u001b[1;36m45\u001b[0m\u001b[1;33m,\u001b[0m\u001b[1;36m2.54\u001b[0m\u001b[1;33m,\u001b[0m\u001b[1;32mTrue\u001b[0m\u001b[1;33m,\u001b[0m\u001b[1;36m49\u001b[0m\u001b[1;33m\u001b[0m\u001b[1;33m\u001b[0m\u001b[0m\n\u001b[0m\u001b[0;32m      2\u001b[0m \u001b[0mprint\u001b[0m\u001b[1;33m(\u001b[0m\u001b[0mc\u001b[0m\u001b[1;33m,\u001b[0m\u001b[0md\u001b[0m\u001b[1;33m,\u001b[0m\u001b[0mg\u001b[0m\u001b[1;33m)\u001b[0m\u001b[1;33m\u001b[0m\u001b[1;33m\u001b[0m\u001b[0m\n",
      "\u001b[1;31mValueError\u001b[0m: too many values to unpack (expected 3)"
     ]
    }
   ],
   "source": [
    "c,d,g = 45,2.54,True,49\n",
    "print(c,d,g)"
   ]
  },
  {
   "cell_type": "code",
   "execution_count": 6,
   "id": "76cfbcd0",
   "metadata": {},
   "outputs": [
    {
     "ename": "ValueError",
     "evalue": "not enough values to unpack (expected 3, got 2)",
     "output_type": "error",
     "traceback": [
      "\u001b[1;31m---------------------------------------------------------------------\u001b[0m",
      "\u001b[1;31mValueError\u001b[0m                          Traceback (most recent call last)",
      "\u001b[1;32m<ipython-input-6-95cb520505f6>\u001b[0m in \u001b[0;36m<module>\u001b[1;34m\u001b[0m\n\u001b[1;32m----> 1\u001b[1;33m \u001b[0mc\u001b[0m\u001b[1;33m,\u001b[0m\u001b[0md\u001b[0m\u001b[1;33m,\u001b[0m\u001b[0mg\u001b[0m \u001b[1;33m=\u001b[0m \u001b[1;36m45\u001b[0m\u001b[1;33m,\u001b[0m\u001b[1;36m2.54\u001b[0m\u001b[1;33m\u001b[0m\u001b[1;33m\u001b[0m\u001b[0m\n\u001b[0m\u001b[0;32m      2\u001b[0m \u001b[0mprint\u001b[0m\u001b[1;33m(\u001b[0m\u001b[0mc\u001b[0m\u001b[1;33m,\u001b[0m\u001b[0md\u001b[0m\u001b[1;33m,\u001b[0m\u001b[0mg\u001b[0m\u001b[1;33m)\u001b[0m\u001b[1;33m\u001b[0m\u001b[1;33m\u001b[0m\u001b[0m\n",
      "\u001b[1;31mValueError\u001b[0m: not enough values to unpack (expected 3, got 2)"
     ]
    }
   ],
   "source": [
    "c,d,g = 45,2.54\n",
    "print(c,d,g)"
   ]
  },
  {
   "cell_type": "code",
   "execution_count": 8,
   "id": "39f7db92",
   "metadata": {},
   "outputs": [
    {
     "name": "stdout",
     "output_type": "stream",
     "text": [
      "50 50 50\n",
      "140709147932464\n",
      "140709147932464\n",
      "140709147932464\n"
     ]
    }
   ],
   "source": [
    "k = m = n = 50\n",
    "print(k,m,n)\n",
    "print(id(k))\n",
    "print(id(m))\n",
    "print(id(n))"
   ]
  },
  {
   "cell_type": "markdown",
   "id": "bad32975",
   "metadata": {},
   "source": [
    "# Data types:\n",
    "    - int => To stores numeric values only\n",
    "    - float => To store decimal values and numeric values\n",
    "    - string => enclosed with ' or \"\n",
    "    - complex => Values should be in real and imaginary parts\n",
    "    - boolean => Either True or False\n",
    "    - None => Empty or Null\n",
    "    - All Data Structures [List,Set,Tuple and Dictionary]"
   ]
  },
  {
   "cell_type": "markdown",
   "id": "fd9d0407",
   "metadata": {},
   "source": [
    "# Type():\n",
    "    - To know the data type of a variable\n",
    "    Syntax:\n",
    "        type(variablename)"
   ]
  },
  {
   "cell_type": "code",
   "execution_count": 9,
   "id": "b93f0f1d",
   "metadata": {},
   "outputs": [
    {
     "name": "stdout",
     "output_type": "stream",
     "text": [
      "<class 'int'> <class 'float'> <class 'str'> <class 'bool'> <class 'complex'>\n"
     ]
    }
   ],
   "source": [
    "a,b,c,d,e = 45,56.20,'45',True,4+5j\n",
    "print(type(a),type(b),type(c),type(d),type(e))"
   ]
  },
  {
   "cell_type": "markdown",
   "id": "83d0003b",
   "metadata": {},
   "source": [
    "# Type Casting:\n",
    "    - To Change the data type of one data type to \n",
    "    another data type\n",
    "    Sytnax:\n",
    "        datatype_name(variablename)\n",
    "    - int()\n",
    "    - float()\n",
    "    - str()\n",
    "    - complex()\n",
    "    - All Data Structures [list(),tuple(),set() and dict()]"
   ]
  },
  {
   "cell_type": "markdown",
   "id": "71e54921",
   "metadata": {},
   "source": [
    "## Input Formatting:\n",
    "    - It access the data from a user\n",
    "    - By default it stores string data type values\n",
    "    - It also display an info to a user\n",
    "    Syntax:\n",
    "        variablename = input(\"some text\")\n",
    "    "
   ]
  },
  {
   "cell_type": "code",
   "execution_count": 6,
   "id": "ed2a8f7e",
   "metadata": {},
   "outputs": [
    {
     "name": "stdout",
     "output_type": "stream",
     "text": [
      "Enter a value: 45\n",
      "45 <class 'str'>\n"
     ]
    }
   ],
   "source": [
    "n = input(\"Enter a value: \")\n",
    "print(n,type(n))"
   ]
  },
  {
   "cell_type": "code",
   "execution_count": 7,
   "id": "5e70c878",
   "metadata": {},
   "outputs": [
    {
     "name": "stdout",
     "output_type": "stream",
     "text": [
      "enter a value4\n",
      "enter a value5\n",
      "4 5 <class 'str'> <class 'str'>\n"
     ]
    }
   ],
   "source": [
    "a,b =input(\"enter a value\"),input(\"enter a value\")\n",
    "print(a,b,type(a),type(b))"
   ]
  },
  {
   "cell_type": "code",
   "execution_count": 8,
   "id": "6a0f03e4",
   "metadata": {},
   "outputs": [
    {
     "name": "stdout",
     "output_type": "stream",
     "text": [
      "<class 'tuple'>\n"
     ]
    }
   ],
   "source": [
    "k='56','25'\n",
    "print(type(k))"
   ]
  },
  {
   "cell_type": "markdown",
   "id": "7b1f892a",
   "metadata": {},
   "source": [
    "# Output Formatting:\n",
    "    - ,\n",
    "    - %\n",
    "    - .format\n",
    "    - f"
   ]
  },
  {
   "cell_type": "code",
   "execution_count": 12,
   "id": "801e2c6e",
   "metadata": {},
   "outputs": [
    {
     "name": "stdout",
     "output_type": "stream",
     "text": [
      "Enter a value: 4\n",
      "Enter a value: 8\n",
      "Addition of 4 and 8 is:  12\n",
      "4 <class 'str'> 8 <class 'str'>\n"
     ]
    }
   ],
   "source": [
    "n,m=input(\"Enter a value: \"),input(\"Enter a value: \")\n",
    "print(\"Addition of\",n,\"and\",m,\"is: \",int(n)+int(m))\n",
    "print(n,type(n),m,type(m))"
   ]
  },
  {
   "cell_type": "code",
   "execution_count": 13,
   "id": "dec491a1",
   "metadata": {},
   "outputs": [
    {
     "name": "stdout",
     "output_type": "stream",
     "text": [
      "Enter a value: 45\n",
      "Enter a value: 6\n",
      "Addition of 45 and 6 is:  51\n",
      "45 <class 'int'> 6 <class 'int'>\n"
     ]
    }
   ],
   "source": [
    "n,m=int(input(\"Enter a value: \")),int(input(\"Enter a value: \"))\n",
    "print(\"Addition of\",n,\"and\",m,\"is: \",n+m)\n",
    "print(n,type(n),m,type(m))"
   ]
  },
  {
   "cell_type": "code",
   "execution_count": 14,
   "id": "dd06443a",
   "metadata": {},
   "outputs": [
    {
     "name": "stdout",
     "output_type": "stream",
     "text": [
      "Enter a value: 5\n",
      "Enter a value: 8\n",
      "Addition of 5 and 8 is: 13\n"
     ]
    }
   ],
   "source": [
    "n,m=int(input(\"Enter a value: \")),int(input(\"Enter a value: \"))\n",
    "print(\"Addition of %d and %d is: %d\"%(n,m,n+m))"
   ]
  },
  {
   "cell_type": "code",
   "execution_count": null,
   "id": "95b17941",
   "metadata": {},
   "outputs": [],
   "source": []
  }
 ],
 "metadata": {
  "kernelspec": {
   "display_name": "Python 3",
   "language": "python",
   "name": "python3"
  },
  "language_info": {
   "codemirror_mode": {
    "name": "ipython",
    "version": 3
   },
   "file_extension": ".py",
   "mimetype": "text/x-python",
   "name": "python",
   "nbconvert_exporter": "python",
   "pygments_lexer": "ipython3",
   "version": "3.7.5"
  }
 },
 "nbformat": 4,
 "nbformat_minor": 5
}
